{
 "cells": [
  {
   "cell_type": "code",
   "execution_count": 1,
   "metadata": {},
   "outputs": [],
   "source": [
    "from requests_html import HTMLSession\n",
    "import json\n",
    "import os\n",
    "\n",
    "with open('Issuelist/rfs_issuelist.json','r') as f:\n",
    "    RFS_ISSUELIST = json.loads(f.read())"
   ]
  },
  {
   "cell_type": "markdown",
   "metadata": {},
   "source": [
    "### TEST"
   ]
  },
  {
   "cell_type": "markdown",
   "metadata": {},
   "source": [
    "#### url_list"
   ]
  },
  {
   "cell_type": "code",
   "execution_count": null,
   "metadata": {},
   "outputs": [],
   "source": [
    "url = 'https://academic.oup.com/rfs/issue/32/1?browseBy=volume'\n",
    "\n",
    "s = HTMLSession()\n",
    "r = s.get(url)"
   ]
  },
  {
   "cell_type": "code",
   "execution_count": null,
   "metadata": {
    "scrolled": false
   },
   "outputs": [],
   "source": [
    "url_list = r.html.find('h5.item-title>a')\n",
    "url_list = [i.absolute_links.pop() for i in url_list]"
   ]
  },
  {
   "cell_type": "code",
   "execution_count": null,
   "metadata": {},
   "outputs": [],
   "source": [
    "#vol,iss\n",
    "vol_iss = r.html.find('div.issue-info-pub',first=True).text.split(',')\n",
    "print(vol_iss[0].split('Volume ')[1])\n",
    "print(vol_iss[1].split('Issue ')[1])"
   ]
  },
  {
   "cell_type": "markdown",
   "metadata": {},
   "source": [
    "#### page"
   ]
  },
  {
   "cell_type": "code",
   "execution_count": null,
   "metadata": {
    "scrolled": false
   },
   "outputs": [],
   "source": [
    "test_url = 'https://academic.oup.com/rfs/article/32/1/1/5058062'\n",
    "r = s.get(test_url)"
   ]
  },
  {
   "cell_type": "code",
   "execution_count": null,
   "metadata": {},
   "outputs": [],
   "source": [
    "# title\n",
    "r.html.find('h1.article-title-main', first=True).text"
   ]
  },
  {
   "cell_type": "code",
   "execution_count": null,
   "metadata": {},
   "outputs": [],
   "source": [
    "# authors\n",
    "authors = r.html.find('div.al-authors-list a.linked-name')"
   ]
  },
  {
   "cell_type": "code",
   "execution_count": null,
   "metadata": {},
   "outputs": [],
   "source": [
    "[i.text for i in authors]"
   ]
  },
  {
   "cell_type": "code",
   "execution_count": null,
   "metadata": {},
   "outputs": [],
   "source": [
    "# date\n",
    "r.html.find('div.citation-date', first=True).text"
   ]
  },
  {
   "cell_type": "code",
   "execution_count": null,
   "metadata": {},
   "outputs": [],
   "source": [
    "# abstract\n",
    "r.html.find('section.abstract>p', first=True).text"
   ]
  },
  {
   "cell_type": "code",
   "execution_count": null,
   "metadata": {},
   "outputs": [],
   "source": [
    "# link\n",
    "r.html.find('div.ww-citation-primary>a', first=True).absolute_links.pop()"
   ]
  },
  {
   "cell_type": "markdown",
   "metadata": {},
   "source": [
    "### MAIN"
   ]
  },
  {
   "cell_type": "code",
   "execution_count": 11,
   "metadata": {},
   "outputs": [],
   "source": [
    "RFS_URL = 'https://academic.oup.com/rfs/issue/{}/{}?browseBy=volume'\n",
    "MAX_RETRY = 5\n",
    "\n",
    "def get_rfs(vol, iss):\n",
    "    s = HTMLSession()\n",
    "    \n",
    "    try:\n",
    "        r = s.get(RFS_URL.format(vol,iss))\n",
    "    except:\n",
    "        for c , _ in enumerate(range(MAX_RETRY+1)):\n",
    "            print('Retry#{} '.format(c+1), end='')\n",
    "            r = s.get(RFS_URL.format(vol,iss))\n",
    "            if r.status_code == 200:\n",
    "                break\n",
    "    \n",
    "\n",
    "    print('Volume \\033[32m{}\\033[m, Issue \\033[32m{}\\033[m: Total {} '.format(vol,iss,len(r.html.find('h5.item-title>a'))))\n",
    "    \n",
    "    # get url_list\n",
    "    url_list = r.html.find('h5.item-title>a')\n",
    "    url_list = [i.absolute_links.pop() for i in url_list]\n",
    "    \n",
    "    # create dict\n",
    "    article = {}\n",
    "    # isse info write\n",
    "    article['journal'] = 'RFS'\n",
    "    vol_iss = r.html.find('div.issue-info-pub',first=True).text.split(',')\n",
    "    article['volume'] = vol_iss[0].split('Volume ')[1]\n",
    "    article['issue'] = vol_iss[1].split('Issue ')[1]\n",
    "    article['date'] = r.html.find('div.issue-info-date', first=True).text\n",
    "    article['page'] = RFS_ISSUELIST[vol][iss]['page']\n",
    "    \n",
    "    \n",
    "    # article info write\n",
    "    article['article'] = []\n",
    "    for i, url in enumerate(url_list):\n",
    "        print('#{} '.format(i+1), end='')\n",
    "        # request\n",
    "        try:\n",
    "            r = s.get(url)\n",
    "        except:\n",
    "            for c , _ in enumerate(range(MAX_RETRY+1)):\n",
    "                print('Retry#{} '.format(c+1), end='')\n",
    "                r = s.get(url)\n",
    "                if r.status_code == 200:\n",
    "                    break\n",
    "        \n",
    "        article['article'].append({'no':str(i+1)})\n",
    "        # article title\n",
    "        article['article'][i]['title'] = r.html.find('h1.article-title-main', first=True).text\n",
    "        # article date\n",
    "        article['article'][i]['date'] = r.html.find('div.citation-date', first=True).text\n",
    "        \n",
    "        # aritcle author\n",
    "        authors = r.html.find('div.al-authors-list a.linked-name')\n",
    "        if authors:\n",
    "            article['article'][i]['author'] = [i.text for i in authors]\n",
    "        else:\n",
    "            article['article'][i]['author'] = []\n",
    "        \n",
    "        # article abstract\n",
    "        if r.html.find('section.abstract>p', first=True):\n",
    "            article['article'][i]['abstract'] = r.html.find('section.abstract>p', first=True).text\n",
    "        else:\n",
    "            article['article'][i]['abstract'] = ''\n",
    "        # article link\n",
    "        article['article'][i]['link'] = r.html.find('div.ww-citation-primary>a', first=True).absolute_links.pop()\n",
    "        \n",
    "    # write json file\n",
    "    path_name = 'JSON/RFS/Volume {}/Volume {} - Issue {}.json'.format(vol,vol,iss) \n",
    "    os.makedirs(os.path.dirname(path_name), exist_ok=True)\n",
    "    with open(path_name, 'w') as f:\n",
    "        # get article items\n",
    "        f.write(json.dumps(article, indent=4))\n",
    "    print('\\033[32m{}\\033[m'.format('DONE!'))\n",
    "\n",
    "\n",
    "            \n",
    "def rfs_main(vol,iss):\n",
    "    if os.getcwd()[13:] != 'light-speed-engine':\n",
    "        print('Not in the right folder')\n",
    "    else:\n",
    "        # write json\n",
    "        get_rfs(vol,iss)"
   ]
  },
  {
   "cell_type": "code",
   "execution_count": 12,
   "metadata": {},
   "outputs": [
    {
     "name": "stdout",
     "output_type": "stream",
     "text": [
      "Volume \u001b[32m22\u001b[m, Issue \u001b[32m12\u001b[m: Total 15 \n",
      "#1 #2 #3 #4 #5 #6 #7 #8 #9 #10 #11 #12 #13 #14 #15 \u001b[32mDONE!\u001b[m\n"
     ]
    }
   ],
   "source": [
    "rfs_main('22','12')"
   ]
  },
  {
   "cell_type": "code",
   "execution_count": null,
   "metadata": {},
   "outputs": [],
   "source": [
    "rfs_main()"
   ]
  },
  {
   "cell_type": "code",
   "execution_count": 18,
   "metadata": {},
   "outputs": [
    {
     "name": "stdout",
     "output_type": "stream",
     "text": [
      "Volume \u001b[32m16\u001b[m, Issue \u001b[32m1\u001b[m: Total 9 \n",
      "#1 #2 #3 #4 #5 #6 #7 #8 #9 \u001b[32mDONE!\u001b[m\n",
      "Volume \u001b[32m16\u001b[m, Issue \u001b[32m2\u001b[m: Total 9 \n",
      "#1 #2 #3 #4 #5 #6 #7 #8 #9 \u001b[32mDONE!\u001b[m\n",
      "Volume \u001b[32m16\u001b[m, Issue \u001b[32m3\u001b[m: Total 10 \n",
      "#1 #2 #3 #4 #5 #6 #7 #8 #9 #10 \u001b[32mDONE!\u001b[m\n",
      "Volume \u001b[32m16\u001b[m, Issue \u001b[32m4\u001b[m: Total 13 \n",
      "#1 #2 #3 #4 #5 #6 #7 #8 #9 #10 #11 #12 #13 \u001b[32mDONE!\u001b[m\n"
     ]
    }
   ],
   "source": [
    "vol = 16\n",
    "for item in RFS_ISSUELIST[str(vol)]:\n",
    "    rfs_main(str(vol),item)"
   ]
  },
  {
   "cell_type": "code",
   "execution_count": 19,
   "metadata": {
    "scrolled": false
   },
   "outputs": [
    {
     "name": "stdout",
     "output_type": "stream",
     "text": [
      "Volume \u001b[32m1\u001b[m, Issue \u001b[32m1\u001b[m: Total 5 \n",
      "#1 #2 #3 #4 #5 \u001b[32mDONE!\u001b[m\n",
      "Volume \u001b[32m1\u001b[m, Issue \u001b[32m2\u001b[m: Total 4 \n",
      "#1 #2 #3 #4 \u001b[32mDONE!\u001b[m\n",
      "Retry#1 Volume \u001b[32m1\u001b[m, Issue \u001b[32m3\u001b[m: Total 6 \n",
      "#1 #2 #3 #4 #5 #6 \u001b[32mDONE!\u001b[m\n",
      "Volume \u001b[32m1\u001b[m, Issue \u001b[32m4\u001b[m: Total 8 \n",
      "#1 #2 #3 #4 #5 #6 #7 #8 \u001b[32mDONE!\u001b[m\n",
      "Volume \u001b[32m2\u001b[m, Issue \u001b[32m1\u001b[m: Total 6 \n",
      "#1 #2 #3 #4 #5 #6 \u001b[32mDONE!\u001b[m\n",
      "Volume \u001b[32m2\u001b[m, Issue \u001b[32m2\u001b[m: Total 7 \n",
      "#1 #2 #3 #4 #5 #6 #7 \u001b[32mDONE!\u001b[m\n",
      "Volume \u001b[32m2\u001b[m, Issue \u001b[32m3\u001b[m: Total 7 \n",
      "#1 #2 #3 #4 #5 #6 #7 \u001b[32mDONE!\u001b[m\n",
      "Volume \u001b[32m2\u001b[m, Issue \u001b[32m4\u001b[m: Total 7 \n",
      "#1 #2 #3 #4 #5 #6 #7 \u001b[32mDONE!\u001b[m\n",
      "Volume \u001b[32m3\u001b[m, Issue \u001b[32m1\u001b[m: Total 11 \n",
      "#1 #2 #3 #4 #5 #6 #7 #8 #9 #10 #11 \u001b[32mDONE!\u001b[m\n",
      "Volume \u001b[32m3\u001b[m, Issue \u001b[32m2\u001b[m: Total 7 \n",
      "#1 #2 #3 #4 #5 #6 #7 \u001b[32mDONE!\u001b[m\n",
      "Volume \u001b[32m3\u001b[m, Issue \u001b[32m3\u001b[m: Total 6 \n",
      "#1 #2 #3 #4 #5 #6 \u001b[32mDONE!\u001b[m\n",
      "Volume \u001b[32m3\u001b[m, Issue \u001b[32m4\u001b[m: Total 9 \n",
      "#1 #2 #3 #4 #5 #6 #7 #8 #9 \u001b[32mDONE!\u001b[m\n",
      "Volume \u001b[32m4\u001b[m, Issue \u001b[32m1\u001b[m: Total 10 \n",
      "#1 #2 #3 #4 #5 #6 #7 #8 #9 #10 \u001b[32mDONE!\u001b[m\n",
      "Volume \u001b[32m4\u001b[m, Issue \u001b[32m2\u001b[m: Total 7 \n",
      "#1 #2 #3 #4 #5 #6 #7 \u001b[32mDONE!\u001b[m\n",
      "Volume \u001b[32m4\u001b[m, Issue \u001b[32m3\u001b[m: Total 8 \n",
      "#1 #2 #3 #4 #5 #6 #7 #8 \u001b[32mDONE!\u001b[m\n",
      "Volume \u001b[32m4\u001b[m, Issue \u001b[32m4\u001b[m: Total 8 \n",
      "#1 #2 #3 #4 #5 #6 #7 #8 \u001b[32mDONE!\u001b[m\n",
      "Volume \u001b[32m5\u001b[m, Issue \u001b[32m1\u001b[m: Total 6 \n",
      "#1 #2 #3 #4 #5 #6 \u001b[32mDONE!\u001b[m\n",
      "Volume \u001b[32m5\u001b[m, Issue \u001b[32m2\u001b[m: Total 7 \n",
      "#1 #2 #3 #4 #5 #6 #7 \u001b[32mDONE!\u001b[m\n",
      "Volume \u001b[32m5\u001b[m, Issue \u001b[32m3\u001b[m: Total 6 \n",
      "#1 #2 #3 #4 #5 #6 \u001b[32mDONE!\u001b[m\n",
      "Volume \u001b[32m5\u001b[m, Issue \u001b[32m4\u001b[m: Total 8 \n",
      "#1 #2 #3 #4 #5 #6 #7 #8 \u001b[32mDONE!\u001b[m\n",
      "Volume \u001b[32m6\u001b[m, Issue \u001b[32m1\u001b[m: Total 8 \n",
      "#1 #2 #3 #4 #5 #6 #7 #8 \u001b[32mDONE!\u001b[m\n",
      "Volume \u001b[32m6\u001b[m, Issue \u001b[32m2\u001b[m: Total 7 \n",
      "#1 #2 #3 #4 #5 #6 #7 \u001b[32mDONE!\u001b[m\n",
      "Volume \u001b[32m6\u001b[m, Issue \u001b[32m3\u001b[m: Total 12 \n",
      "#1 #2 #3 #4 #5 #6 #7 #8 #9 #10 #11 #12 \u001b[32mDONE!\u001b[m\n",
      "Volume \u001b[32m6\u001b[m, Issue \u001b[32m4\u001b[m: Total 9 \n",
      "#1 #2 #3 #4 #5 #6 #7 #8 #9 \u001b[32mDONE!\u001b[m\n",
      "Volume \u001b[32m7\u001b[m, Issue \u001b[32m1\u001b[m: Total 8 \n",
      "#1 #2 #3 #4 #5 #6 #7 #8 \u001b[32mDONE!\u001b[m\n",
      "Volume \u001b[32m7\u001b[m, Issue \u001b[32m2\u001b[m: Total 6 \n",
      "#1 #2 #3 #4 #5 #6 \u001b[32mDONE!\u001b[m\n",
      "Volume \u001b[32m7\u001b[m, Issue \u001b[32m3\u001b[m: Total 6 \n",
      "#1 #2 #3 #4 #5 #6 \u001b[32mDONE!\u001b[m\n",
      "Volume \u001b[32m7\u001b[m, Issue \u001b[32m4\u001b[m: Total 7 \n",
      "#1 #2 #3 #4 #5 #6 #7 \u001b[32mDONE!\u001b[m\n",
      "Volume \u001b[32m8\u001b[m, Issue \u001b[32m1\u001b[m: Total 6 \n",
      "#1 #2 #3 #4 #5 #6 \u001b[32mDONE!\u001b[m\n",
      "Volume \u001b[32m8\u001b[m, Issue \u001b[32m2\u001b[m: Total 10 \n",
      "#1 #2 #3 #4 #5 #6 #7 #8 #9 #10 \u001b[32mDONE!\u001b[m\n",
      "Volume \u001b[32m8\u001b[m, Issue \u001b[32m3\u001b[m: Total 10 \n",
      "#1 #2 #3 #4 #5 #6 #7 #8 #9 #10 \u001b[32mDONE!\u001b[m\n",
      "Volume \u001b[32m8\u001b[m, Issue \u001b[32m4\u001b[m: Total 12 \n",
      "#1 #2 #3 #4 #5 #6 #7 #8 #9 #10 #11 #12 \u001b[32mDONE!\u001b[m\n",
      "Volume \u001b[32m9\u001b[m, Issue \u001b[32m1\u001b[m: Total 10 \n",
      "#1 #2 #3 #4 #5 #6 #7 #8 #9 #10 \u001b[32mDONE!\u001b[m\n",
      "Volume \u001b[32m9\u001b[m, Issue \u001b[32m2\u001b[m: Total 10 \n",
      "#1 #2 #3 #4 #5 #6 #7 #8 #9 #10 \u001b[32mDONE!\u001b[m\n",
      "Volume \u001b[32m9\u001b[m, Issue \u001b[32m3\u001b[m: Total 10 \n",
      "#1 #2 #3 #4 #5 #6 #7 #8 #9 #10 \u001b[32mDONE!\u001b[m\n",
      "Volume \u001b[32m9\u001b[m, Issue \u001b[32m4\u001b[m: Total 8 \n",
      "#1 #2 #3 #4 #5 #6 #7 #8 \u001b[32mDONE!\u001b[m\n",
      "Volume \u001b[32m10\u001b[m, Issue \u001b[32m1\u001b[m: Total 7 \n",
      "#1 #2 #3 #4 #5 #6 #7 \u001b[32mDONE!\u001b[m\n",
      "Volume \u001b[32m10\u001b[m, Issue \u001b[32m2\u001b[m: Total 8 \n",
      "#1 #2 #3 #4 #5 #6 #7 #8 \u001b[32mDONE!\u001b[m\n",
      "Volume \u001b[32m10\u001b[m, Issue \u001b[32m3\u001b[m: Total 10 \n",
      "#1 #2 #3 #4 #5 #6 #7 #8 #9 #10 \u001b[32mDONE!\u001b[m\n",
      "Volume \u001b[32m10\u001b[m, Issue \u001b[32m4\u001b[m: Total 10 \n",
      "#1 #2 #3 #4 #5 #6 #7 #8 #9 #10 \u001b[32mDONE!\u001b[m\n",
      "Volume \u001b[32m11\u001b[m, Issue \u001b[32m1\u001b[m: Total 10 \n",
      "#1 #2 #3 #4 #5 #6 #7 #8 #9 #10 \u001b[32mDONE!\u001b[m\n",
      "Volume \u001b[32m11\u001b[m, Issue \u001b[32m2\u001b[m: Total 6 \n",
      "#1 #2 #3 #4 #5 #6 \u001b[32mDONE!\u001b[m\n",
      "Volume \u001b[32m11\u001b[m, Issue \u001b[32m3\u001b[m: Total 8 \n",
      "#1 #2 #3 #4 #5 #6 #7 #8 \u001b[32mDONE!\u001b[m\n",
      "Volume \u001b[32m11\u001b[m, Issue \u001b[32m4\u001b[m: Total 7 \n",
      "#1 #2 #3 #4 #5 #6 #7 \u001b[32mDONE!\u001b[m\n",
      "Volume \u001b[32m12\u001b[m, Issue \u001b[32m1\u001b[m: Total 8 \n",
      "#1 #2 #3 #4 #5 #6 #7 #8 \u001b[32mDONE!\u001b[m\n",
      "Volume \u001b[32m12\u001b[m, Issue \u001b[32m2\u001b[m: Total 7 \n",
      "#1 #2 #3 #4 #5 #6 #7 \u001b[32mDONE!\u001b[m\n",
      "Volume \u001b[32m12\u001b[m, Issue \u001b[32m3\u001b[m: Total 10 \n",
      "#1 #2 #3 #4 #5 #6 #7 #8 #9 #10 \u001b[32mDONE!\u001b[m\n",
      "Volume \u001b[32m12\u001b[m, Issue \u001b[32m4\u001b[m: Total 8 \n",
      "#1 #2 #3 #4 #5 #6 #7 #8 \u001b[32mDONE!\u001b[m\n",
      "Volume \u001b[32m12\u001b[m, Issue \u001b[32m5\u001b[m: Total 10 \n",
      "#1 #2 #3 #4 #5 #6 #7 #8 #9 #10 \u001b[32mDONE!\u001b[m\n",
      "Volume \u001b[32m13\u001b[m, Issue \u001b[32m1\u001b[m: Total 10 \n",
      "#1 #2 #3 #4 #5 #6 #7 #8 #9 #10 \u001b[32mDONE!\u001b[m\n",
      "Volume \u001b[32m13\u001b[m, Issue \u001b[32m2\u001b[m: Total 8 \n",
      "#1 #2 #3 #4 #5 #6 #7 #8 \u001b[32mDONE!\u001b[m\n",
      "Volume \u001b[32m13\u001b[m, Issue \u001b[32m3\u001b[m: Total 11 \n",
      "#1 #2 #3 #4 #5 #6 #7 #8 #9 #10 #11 \u001b[32mDONE!\u001b[m\n",
      "Volume \u001b[32m13\u001b[m, Issue \u001b[32m4\u001b[m: Total 10 \n",
      "#1 #2 #3 #4 #5 #6 #7 #8 #9 #10 \u001b[32mDONE!\u001b[m\n",
      "Volume \u001b[32m14\u001b[m, Issue \u001b[32m1\u001b[m: Total 10 \n",
      "#1 #2 #3 #4 #5 #6 #7 #8 #9 #10 \u001b[32mDONE!\u001b[m\n",
      "Volume \u001b[32m14\u001b[m, Issue \u001b[32m2\u001b[m: Total 10 \n",
      "#1 #2 #3 #4 #5 #6 #7 #8 #9 #10 \u001b[32mDONE!\u001b[m\n",
      "Volume \u001b[32m14\u001b[m, Issue \u001b[32m3\u001b[m: Total 11 \n",
      "#1 #2 #3 #4 #5 #6 #7 #8 #9 #10 #11 \u001b[32mDONE!\u001b[m\n",
      "Volume \u001b[32m14\u001b[m, Issue \u001b[32m4\u001b[m: Total 13 \n",
      "#1 #2 #3 #4 #5 #6 #7 #8 #9 #10 #11 #12 #13 \u001b[32mDONE!\u001b[m\n",
      "Volume \u001b[32m15\u001b[m, Issue \u001b[32m1\u001b[m: Total 11 \n",
      "#1 #2 #3 #4 #5 #6 #7 #8 #9 #10 #11 \u001b[32mDONE!\u001b[m\n",
      "Volume \u001b[32m15\u001b[m, Issue \u001b[32m2\u001b[m: Total 15 \n",
      "#1 #2 #3 #4 #5 #6 #7 #8 #9 #10 #11 #12 #13 #14 #15 \u001b[32mDONE!\u001b[m\n",
      "Volume \u001b[32m15\u001b[m, Issue \u001b[32m3\u001b[m: Total 10 \n",
      "#1 #2 #3 #4 #5 #6 #7 #8 #9 #10 \u001b[32mDONE!\u001b[m\n",
      "Volume \u001b[32m15\u001b[m, Issue \u001b[32m4\u001b[m: Total 10 \n",
      "#1 #2 #3 #4 #5 #6 #7 #8 #9 #10 \u001b[32mDONE!\u001b[m\n",
      "Volume \u001b[32m15\u001b[m, Issue \u001b[32m5\u001b[m: Total 12 \n",
      "#1 #2 #3 #4 #5 #6 #7 #8 #9 #10 #11 #12 \u001b[32mDONE!\u001b[m\n",
      "CPU times: user 58.5 s, sys: 1.05 s, total: 59.5 s\n",
      "Wall time: 35min 27s\n"
     ]
    }
   ],
   "source": [
    "%%time\n",
    "for i in range(1,16):\n",
    "    vol = i\n",
    "    for item in RFS_ISSUELIST[str(vol)]:\n",
    "        rfs_main(str(vol),item)"
   ]
  }
 ],
 "metadata": {
  "kernelspec": {
   "display_name": "Python 3",
   "language": "python",
   "name": "python3"
  },
  "language_info": {
   "codemirror_mode": {
    "name": "ipython",
    "version": 3
   },
   "file_extension": ".py",
   "mimetype": "text/x-python",
   "name": "python",
   "nbconvert_exporter": "python",
   "pygments_lexer": "ipython3",
   "version": "3.7.2"
  }
 },
 "nbformat": 4,
 "nbformat_minor": 2
}
