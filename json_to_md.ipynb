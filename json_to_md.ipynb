{
 "cells": [
  {
   "cell_type": "code",
   "execution_count": 2,
   "metadata": {},
   "outputs": [],
   "source": [
    "import os\n",
    "\n",
    "import json"
   ]
  },
  {
   "cell_type": "markdown",
   "metadata": {},
   "source": [
    "### Convert whole folder"
   ]
  },
  {
   "cell_type": "code",
   "execution_count": 4,
   "metadata": {},
   "outputs": [],
   "source": [
    "def convert_md(jrl):\n",
    "    json_path = 'JSON/{}/'.format(jrl)\n",
    "\n",
    "    \n",
    "    for vol in os.listdir(json_path):\n",
    "        for iss in os.listdir(json_path+vol):\n",
    "            with open(json_path+vol+'/'+iss, 'r') as f:\n",
    "                jfile = f.read()\n",
    "            jfile = json.loads(jfile, strict=False)\n",
    "            os.makedirs('{}/{}'.format(jrl, vol), exist_ok=True)\n",
    "            with open('{}/{}/{}.md'.format(jrl,vol,iss.split('.')[0]),'w') as f:\n",
    "                f.write('# {}, Volume {}, Issue {}\\n'.format(jfile['journal'], jfile['volume'], jfile['issue']))\n",
    "                f.write('- {}\\n'.format(jfile['date']))\n",
    "                f.write('- {}\\n\\n'.format(jfile['page']))\n",
    "\n",
    "\n",
    "                for i in jfile['article']:\n",
    "                    f.write('## {}. {}\\n'.format(i['no'], i['title']))\n",
    "                    f.write('### Date\\n- {}\\n'.format(i['date']))\n",
    "                    f.write('### Author\\n')\n",
    "                    for author in i['author']:\n",
    "                        f.write('- {}\\n'.format(author))\n",
    "                    f.write('### Abstract\\n{}\\n'.format(i['abstract']))\n",
    "                    f.write('### Link\\n- {}\\n\\n'.format(i['link']))"
   ]
  },
  {
   "cell_type": "code",
   "execution_count": 5,
   "metadata": {},
   "outputs": [],
   "source": [
    "# jrl_list = ['JFE','JF','RFS']\n",
    "jrl_list = ['RFS']\n",
    "for journal in jrl_list:\n",
    "    convert_md(journal)"
   ]
  }
 ],
 "metadata": {
  "kernelspec": {
   "display_name": "Python 3",
   "language": "python",
   "name": "python3"
  },
  "language_info": {
   "codemirror_mode": {
    "name": "ipython",
    "version": 3
   },
   "file_extension": ".py",
   "mimetype": "text/x-python",
   "name": "python",
   "nbconvert_exporter": "python",
   "pygments_lexer": "ipython3",
   "version": "3.7.2"
  }
 },
 "nbformat": 4,
 "nbformat_minor": 2
}
