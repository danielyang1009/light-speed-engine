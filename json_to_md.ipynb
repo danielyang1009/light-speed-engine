{
 "cells": [
  {
   "cell_type": "code",
   "execution_count": 41,
   "metadata": {},
   "outputs": [],
   "source": [
    "import os\n",
    "import json\n",
    "\n",
    "# read issue list\n",
    "with open('Issuelist/jfe_issuelist.json','r') as f:\n",
    "    jf = f.read()\n",
    "JFE_ISSUELIST = json.loads(jf)"
   ]
  },
  {
   "cell_type": "code",
   "execution_count": null,
   "metadata": {},
   "outputs": [],
   "source": [
    "with open('Volume 132 - issue 2.json', 'r') as f:\n",
    "    jfile = f.read()\n",
    "jfile = json.loads(jfile, strict=False)"
   ]
  },
  {
   "cell_type": "code",
   "execution_count": null,
   "metadata": {},
   "outputs": [],
   "source": [
    "with open('temp.md','w') as f:\n",
    "    for i in jfile:\n",
    "        f.write(\"# {}\\n\".format(i['title']))\n",
    "        f.write('## authors\\n')\n",
    "        for author in i['author']:\n",
    "            f.write('- {}\\n'.format(author))\n",
    "    f.close"
   ]
  },
  {
   "cell_type": "code",
   "execution_count": 51,
   "metadata": {},
   "outputs": [],
   "source": [
    "# load from /JSON and write to /jrl folder\n",
    "def parse_json(jrl,vol,iss):\n",
    "    json_path = 'JSON/{}/Volume {}/'.format(jrl,vol)\n",
    "    jrl_path = '{}/Volume {}/'.format(jrl,vol)\n",
    "    \n",
    "#     print(json_path, jrl_path)\n",
    "    \n",
    "    if os.getcwd()[13:] != 'light-speed-engine':\n",
    "        print('Not in the right folder')\n",
    "    else:\n",
    "        with open(json_path + 'Volume {} - Issue {}.json'.format(vol,iss), 'r') as f:\n",
    "            jfile = f.read()\n",
    "        jfile = json.loads(jfile, strict=False)\n",
    "        os.makedirs(jrl_path, exist_ok=True)\n",
    "        with open('{}Volume {} - Issue {}.md'.format(jrl_path,vol,iss),'w') as f:\n",
    "            f.write('# {}, Volume {}, Issue {}\\n'.format(jfile['journal'], jfile['volume'], jfile['issue']))\n",
    "            f.write('- {}\\n'.format(jfile['date']))\n",
    "            f.write('- {}\\n\\n'.format(jfile['page']))\n",
    "            \n",
    "            \n",
    "            for i in jfile['article']:\n",
    "                f.write('## {}. {}\\n'.format(i['no'], i['title']))\n",
    "                f.write('### Date\\n- {}\\n'.format(i['date']))\n",
    "                f.write('### Authors\\n')\n",
    "                for author in i['author']:\n",
    "                    f.write('- {}\\n'.format(author))\n",
    "                f.write('### Abstract\\n{}\\n'.format(i['abstract']))\n",
    "                f.write('### Link\\n- {}\\n\\n'.format(i['link']))"
   ]
  },
  {
   "cell_type": "code",
   "execution_count": 53,
   "metadata": {},
   "outputs": [],
   "source": [
    "for i in range(21,133):\n",
    "    for j in JFE_ISSUELIST[str(i)]:\n",
    "        parse_json('JFE', str(i), j)"
   ]
  },
  {
   "cell_type": "code",
   "execution_count": 44,
   "metadata": {},
   "outputs": [
    {
     "data": {
      "text/plain": [
       "'/Users/dyang/light-speed-engine'"
      ]
     },
     "execution_count": 44,
     "metadata": {},
     "output_type": "execute_result"
    }
   ],
   "source": [
    "os.getcwd()"
   ]
  },
  {
   "cell_type": "code",
   "execution_count": 25,
   "metadata": {},
   "outputs": [],
   "source": [
    "os.chdir('/Users/dyang/light-speed-engine')"
   ]
  },
  {
   "cell_type": "code",
   "execution_count": 47,
   "metadata": {},
   "outputs": [
    {
     "name": "stdout",
     "output_type": "stream",
     "text": [
      "\u001b[32m colo \u001b[m fsdf\n"
     ]
    }
   ],
   "source": [
    "print('\\033[32m colo \\033[m fsdf')"
   ]
  }
 ],
 "metadata": {
  "kernelspec": {
   "display_name": "Python 3",
   "language": "python",
   "name": "python3"
  },
  "language_info": {
   "codemirror_mode": {
    "name": "ipython",
    "version": 3
   },
   "file_extension": ".py",
   "mimetype": "text/x-python",
   "name": "python",
   "nbconvert_exporter": "python",
   "pygments_lexer": "ipython3",
   "version": "3.7.2"
  }
 },
 "nbformat": 4,
 "nbformat_minor": 2
}
