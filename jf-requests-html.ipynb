{
 "cells": [
  {
   "cell_type": "code",
   "execution_count": null,
   "metadata": {},
   "outputs": [],
   "source": [
    "from requests_html import HTMLSession\n",
    "import json\n",
    "import os\n",
    "\n",
    "with open('Issuelist/jf_issuelist.json','r') as f:\n",
    "    jf = f.read()\n",
    "JF_ISSUELIST = json.loads(jf)"
   ]
  },
  {
   "cell_type": "markdown",
   "metadata": {},
   "source": [
    "### TEST"
   ]
  },
  {
   "cell_type": "code",
   "execution_count": null,
   "metadata": {},
   "outputs": [],
   "source": [
    "test_url = 'https://onlinelibrary.wiley.com/toc/15406261/2019/74/2'\n",
    "s = HTMLSession()\n",
    "r = s.get(test_url)"
   ]
  },
  {
   "cell_type": "code",
   "execution_count": null,
   "metadata": {},
   "outputs": [],
   "source": [
    "# vol iss\n",
    "vol_iss = r.html.find('div.cover-image__parent-item',first=True).text\n",
    "vol = vol_iss.split(' ')[1].strip(',')\n",
    "iss = vol_iss.split('Issue ')[-1]\n",
    "print(vol)\n",
    "print(iss)"
   ]
  },
  {
   "cell_type": "code",
   "execution_count": null,
   "metadata": {},
   "outputs": [],
   "source": [
    "# date\n",
    "r.html.find('div.cover-image__date',first=True).text"
   ]
  },
  {
   "cell_type": "code",
   "execution_count": null,
   "metadata": {},
   "outputs": [],
   "source": [
    "# page\n",
    "r.html.find('div.cover-image__pageRange',first=True).text.replace(u'\\xa0', u' ')"
   ]
  },
  {
   "cell_type": "code",
   "execution_count": null,
   "metadata": {},
   "outputs": [],
   "source": [
    "# url_list\n",
    "url_list = [i.absolute_links.pop() for i in r.html.find('div.issue-item>a.issue-item__title')]\n",
    "url_list"
   ]
  },
  {
   "cell_type": "code",
   "execution_count": null,
   "metadata": {},
   "outputs": [],
   "source": [
    "r = s.get('https://onlinelibrary.wiley.com/doi/10.1111/jofi.12749')"
   ]
  },
  {
   "cell_type": "code",
   "execution_count": null,
   "metadata": {},
   "outputs": [],
   "source": [
    "\n",
    "temp = r.html.find('div.accordion-tabbed a.author-name>span')\n",
    "for i in temp:\n",
    "    print(i.text)"
   ]
  },
  {
   "cell_type": "code",
   "execution_count": null,
   "metadata": {},
   "outputs": [],
   "source": [
    "r.html.find('div.article-section__content.en.main',first=True).text"
   ]
  },
  {
   "cell_type": "markdown",
   "metadata": {},
   "source": [
    "### MAIN"
   ]
  },
  {
   "cell_type": "code",
   "execution_count": null,
   "metadata": {},
   "outputs": [],
   "source": [
    "JF_URL = 'https://onlinelibrary.wiley.com/toc/15406261'\n",
    "MAX_RETRY = 5\n",
    "\n",
    "def get_jf(vol, iss):\n",
    "    s = HTMLSession()\n",
    "\n",
    "    #issue request\n",
    "    try:\n",
    "        r = s.get('{}/{}/{}/{}'.format(JF_URL,int(vol)+1945,vol,iss))\n",
    "    except:\n",
    "        for c , _ in enumerate(range(MAX_RETRY+1)):\n",
    "            print('Retry#{} '.format(c+1), end='')\n",
    "            r = s.get('{}/{}/{}/{}'.format(JF_URL,int(vol)+1945,vol,iss))\n",
    "            if r.status_code == 200:\n",
    "                break\n",
    "    print('Volume \\033[32m{}\\033[m, Issue \\033[32m{}\\033[m: Total {} '.format(vol,iss,len(r.html.find('div.issue-item'))))\n",
    "    # get issuelist\n",
    "    url_list = [i.absolute_links.pop() for i in r.html.find('div.issue-item>a.issue-item__title')]\n",
    "    \n",
    "    # issue info\n",
    "    content = {}\n",
    "    vol_iss = r.html.find('div.cover-image__parent-item',first=True).text\n",
    "    content['journal'] = 'JF'\n",
    "    content['volume'] = vol_iss.split(' ')[1].strip(',')\n",
    "    content['issue'] = vol_iss.split('Issue ')[-1]\n",
    "    content['date'] = r.html.find('div.cover-image__date',first=True).text\n",
    "    content['page'] = r.html.find('div.cover-image__pageRange',first=True).text.replace(u'\\xa0', u' ')\n",
    "    \n",
    "    # article loop\n",
    "    content['article'] = []\n",
    "    for cnt, url in enumerate(url_list):\n",
    "        print('#{} '.format(cnt+1), end='')\n",
    "\n",
    "        \n",
    "        # article request\n",
    "        try:\n",
    "            r = s.get(url)\n",
    "        except:\n",
    "            for c , _ in enumerate(range(MAX_RETRY+1)):\n",
    "                print('Retry#{} '.format(c+1), end='')\n",
    "                r = s.get(url)\n",
    "                if r.status_code == 200:\n",
    "                    break\n",
    "            \n",
    "        content['article'].append({})\n",
    "        content['article'][cnt]['no'] = str(cnt+1)\n",
    "        content['article'][cnt]['title'] = r.html.find('h2.citation__title',first=True).text\n",
    "        content['article'][cnt]['date'] = r.html.find('span.epub-date',first=True).text\n",
    "        # authors\n",
    "        authors = [i.text for i in r.html.find('div.accordion-tabbed a.author-name>span')]\n",
    "        content['article'][cnt]['author'] = authors\n",
    "        # abstract\n",
    "        abstract = r.html.find('div.article-section__content',first=True)\n",
    "        if abstract:\n",
    "            content['article'][cnt]['abstract'] = abstract.text\n",
    "        else:\n",
    "            content['article'][cnt]['abstract'] = ''\n",
    "            \n",
    "        content['article'][cnt]['link'] = r.html.find('a.epub-doi',first=True).absolute_links.pop()\n",
    "    \n",
    "    \n",
    "    # write json file\n",
    "    path_name = 'JSON/JF/Volume {}/Volume {} - Issue {}.json'.format(vol,vol,iss) \n",
    "    os.makedirs(os.path.dirname(path_name), exist_ok=True)\n",
    "    with open(path_name, 'w') as f:\n",
    "        # get article items\n",
    "        f.write(json.dumps(content, indent=4))\n",
    "    print('\\033[32m{}\\033[m'.format('DONE!'))\n",
    "    \n",
    "    \n",
    "def jf_main(vol,iss):\n",
    "    if os.getcwd()[13:] != 'light-speed-engine':\n",
    "        print('Not in the right folder')\n",
    "    else:\n",
    "        get_jf(vol,iss)\n",
    "    "
   ]
  },
  {
   "cell_type": "code",
   "execution_count": null,
   "metadata": {},
   "outputs": [],
   "source": [
    "%%time\n",
    "jf_main('25','3')"
   ]
  },
  {
   "cell_type": "code",
   "execution_count": null,
   "metadata": {},
   "outputs": [],
   "source": [
    "%%time\n",
    "vol = '34'\n",
    "for i in JF_ISSUELIST[vol]:\n",
    "    jf_main(vol,i)"
   ]
  },
  {
   "cell_type": "code",
   "execution_count": null,
   "metadata": {
    "scrolled": false
   },
   "outputs": [],
   "source": [
    "%%time\n",
    "for i in range(1,25):\n",
    "    vol = str(i)\n",
    "    for j in JF_ISSUELIST[vol]:\n",
    "        jf_main(vol,j)"
   ]
  }
 ],
 "metadata": {
  "kernelspec": {
   "display_name": "Python 3",
   "language": "python",
   "name": "python3"
  },
  "language_info": {
   "codemirror_mode": {
    "name": "ipython",
    "version": 3
   },
   "file_extension": ".py",
   "mimetype": "text/x-python",
   "name": "python",
   "nbconvert_exporter": "python",
   "pygments_lexer": "ipython3",
   "version": "3.7.2"
  }
 },
 "nbformat": 4,
 "nbformat_minor": 2
}
