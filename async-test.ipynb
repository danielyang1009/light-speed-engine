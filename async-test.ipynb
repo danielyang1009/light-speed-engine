{
 "cells": [
  {
   "cell_type": "code",
   "execution_count": 37,
   "metadata": {},
   "outputs": [
    {
     "ename": "ImportError",
     "evalue": "cannot import name 'async'",
     "output_type": "error",
     "traceback": [
      "\u001b[0;31m---------------------------------------------------------------------------\u001b[0m",
      "\u001b[0;31mImportError\u001b[0m                               Traceback (most recent call last)",
      "\u001b[0;32m<ipython-input-37-f16f2a0051f1>\u001b[0m in \u001b[0;36m<module>\u001b[0;34m\u001b[0m\n\u001b[1;32m      1\u001b[0m \u001b[0;32mfrom\u001b[0m \u001b[0mrequests_html\u001b[0m \u001b[0;32mimport\u001b[0m \u001b[0mAsyncHTMLSession\u001b[0m\u001b[0;34m\u001b[0m\u001b[0;34m\u001b[0m\u001b[0m\n\u001b[1;32m      2\u001b[0m \u001b[0;32mfrom\u001b[0m \u001b[0mrequests_html\u001b[0m \u001b[0;32mimport\u001b[0m \u001b[0mHTMLSession\u001b[0m\u001b[0;34m\u001b[0m\u001b[0;34m\u001b[0m\u001b[0m\n\u001b[0;32m----> 3\u001b[0;31m \u001b[0;32mfrom\u001b[0m \u001b[0mrequests\u001b[0m \u001b[0;32mimport\u001b[0m \u001b[0masync\u001b[0m\u001b[0;34m\u001b[0m\u001b[0;34m\u001b[0m\u001b[0m\n\u001b[0m\u001b[1;32m      4\u001b[0m \u001b[0;32mimport\u001b[0m \u001b[0masyncio\u001b[0m\u001b[0;34m\u001b[0m\u001b[0;34m\u001b[0m\u001b[0m\n\u001b[1;32m      5\u001b[0m \u001b[0;32mimport\u001b[0m \u001b[0maiohttp\u001b[0m\u001b[0;34m\u001b[0m\u001b[0;34m\u001b[0m\u001b[0m\n",
      "\u001b[0;31mImportError\u001b[0m: cannot import name 'async'"
     ]
    }
   ],
   "source": [
    "from requests_html import AsyncHTMLSession\n",
    "from requests_html import HTMLSession\n",
    "from requests import async\n",
    "import asyncio\n",
    "import aiohttp"
   ]
  },
  {
   "cell_type": "code",
   "execution_count": null,
   "metadata": {},
   "outputs": [],
   "source": [
    "# notes\n",
    "# Esc r y -> clear cell output\n",
    "# same website only one request"
   ]
  },
  {
   "cell_type": "code",
   "execution_count": 10,
   "metadata": {},
   "outputs": [],
   "source": [
    "s = HTMLSession()\n",
    "r = s.get('https://pubsonline.informs.org/toc/mnsc/65/3')\n",
    "items = r.html.find('div.issue-item')"
   ]
  },
  {
   "cell_type": "code",
   "execution_count": 18,
   "metadata": {},
   "outputs": [],
   "source": [
    "url_list = []\n",
    "for item in items:\n",
    "    url_list.append(item.find('div.issue-item>p>a',first=True).text)"
   ]
  },
  {
   "cell_type": "code",
   "execution_count": 29,
   "metadata": {},
   "outputs": [],
   "source": [
    "r_temp = s.get(url_list[0])"
   ]
  },
  {
   "cell_type": "code",
   "execution_count": null,
   "metadata": {},
   "outputs": [],
   "source": [
    "r_temp.html.find('h1',first=True).text"
   ]
  },
  {
   "cell_type": "code",
   "execution_count": 24,
   "metadata": {},
   "outputs": [],
   "source": [
    "async def async_woker(url):\n",
    "#     asession = AsyncHTMLSession()\n",
    "    r = await asession.get(url)\n",
    "    return r"
   ]
  },
  {
   "cell_type": "code",
   "execution_count": null,
   "metadata": {},
   "outputs": [],
   "source": [
    "# h1.citation__title\n",
    "\n",
    "async def async_woker(url):\n",
    "#     asession = AsyncHTMLSession()\n",
    "    r = await asession.get(url)\n",
    "    return r\n",
    "\n",
    "results = []\n",
    "asession = AsyncHTMLSession()\n",
    "for url in url_list:\n",
    "    r = await assession.get(url)\n",
    "    asession.run()\n",
    "    print(r.status_code)\n",
    "\n",
    "    \n"
   ]
  },
  {
   "cell_type": "code",
   "execution_count": null,
   "metadata": {},
   "outputs": [],
   "source": []
  },
  {
   "cell_type": "code",
   "execution_count": 19,
   "metadata": {},
   "outputs": [
    {
     "data": {
      "text/plain": [
       "['https://doi.org/10.1287/mnsc.2017.2841',\n",
       " 'https://doi.org/10.1287/mnsc.2017.2908',\n",
       " 'https://doi.org/10.1287/mnsc.2017.2982',\n",
       " 'https://doi.org/10.1287/mnsc.2017.2851',\n",
       " 'https://doi.org/10.1287/mnsc.2017.2996',\n",
       " 'https://doi.org/10.1287/mnsc.2017.2987',\n",
       " 'https://doi.org/10.1287/mnsc.2017.2843',\n",
       " 'https://doi.org/10.1287/mnsc.2017.2914',\n",
       " 'https://doi.org/10.1287/mnsc.2017.2992',\n",
       " 'https://doi.org/10.1287/mnsc.2017.2993',\n",
       " 'https://doi.org/10.1287/mnsc.2017.2983',\n",
       " 'https://doi.org/10.1287/mnsc.2017.2984',\n",
       " 'https://doi.org/10.1287/mnsc.2017.2977',\n",
       " 'https://doi.org/10.1287/mnsc.2017.2950',\n",
       " 'https://doi.org/10.1287/mnsc.2017.2979',\n",
       " 'https://doi.org/10.1287/mnsc.2017.2976',\n",
       " 'https://doi.org/10.1287/mnsc.2017.2985',\n",
       " 'https://doi.org/10.1287/mnsc.2017.2990',\n",
       " 'https://doi.org/10.1287/mnsc.2017.3000',\n",
       " 'https://doi.org/10.1287/mnsc.2017.2989',\n",
       " 'https://doi.org/10.1287/mnsc.2017.2991',\n",
       " 'https://doi.org/10.1287/mnsc.2017.2959',\n",
       " 'https://doi.org/10.1287/mnsc.2017.2923',\n",
       " 'https://doi.org/10.1287/mnsc.2017.2988',\n",
       " 'https://doi.org/10.1287/mnsc.2017.2835']"
      ]
     },
     "execution_count": 19,
     "metadata": {},
     "output_type": "execute_result"
    }
   ],
   "source": [
    "url_list"
   ]
  }
 ],
 "metadata": {
  "kernelspec": {
   "display_name": "Python 3",
   "language": "python",
   "name": "python3"
  },
  "language_info": {
   "codemirror_mode": {
    "name": "ipython",
    "version": 3
   },
   "file_extension": ".py",
   "mimetype": "text/x-python",
   "name": "python",
   "nbconvert_exporter": "python",
   "pygments_lexer": "ipython3",
   "version": "3.6.7"
  }
 },
 "nbformat": 4,
 "nbformat_minor": 2
}
