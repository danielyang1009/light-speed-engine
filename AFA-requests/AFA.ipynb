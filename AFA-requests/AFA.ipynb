{
 "cells": [
  {
   "cell_type": "code",
   "execution_count": 1,
   "id": "2810b151-4ba1-4f35-b07e-62b040bf4ffb",
   "metadata": {},
   "outputs": [],
   "source": [
    "from requests_html import HTMLSession\n",
    "import requests\n",
    "# import urllib.request\n",
    "import pathlib\n",
    "import json\n",
    "import os"
   ]
  },
  {
   "cell_type": "code",
   "execution_count": 5,
   "id": "fb586d73-b28e-4de4-bbd2-b0bd81f3bd7a",
   "metadata": {},
   "outputs": [
    {
     "data": {
      "text/plain": [
       "'1;2;3;4'"
      ]
     },
     "execution_count": 5,
     "metadata": {},
     "output_type": "execute_result"
    }
   ],
   "source": [
    "'1;2;3;4;\\n'.rstrip('\\n;')"
   ]
  },
  {
   "cell_type": "code",
   "execution_count": 22,
   "id": "768fd53d-6599-4db7-b0f8-313b7cbd0bd7",
   "metadata": {},
   "outputs": [
    {
     "data": {
      "text/plain": [
       "756274"
      ]
     },
     "execution_count": 22,
     "metadata": {},
     "output_type": "execute_result"
    }
   ],
   "source": [
    "# requests and download\n",
    "filename = pathlib.Path('AFA2021/temp.pdf')\n",
    "temp = requests.get('https://editorialexpress.com/cgi-bin/conference/download.cgi?db_name=AFA2022&paper_id=891')\n",
    "filename.write_bytes(temp.content)"
   ]
  },
  {
   "cell_type": "code",
   "execution_count": null,
   "id": "2941a47c-c2cc-4812-914f-944b2115038d",
   "metadata": {},
   "outputs": [],
   "source": [
    "def pdf_downlaod(url:str, path:str):\n",
    "    filename = pathlib.Path(path)\n",
    "    pdf = requests.get(url)\n",
    "    filename.write_bytes(pdf.content)"
   ]
  },
  {
   "cell_type": "code",
   "execution_count": 23,
   "id": "5157d4dd-c5b2-46a9-9afa-10e8996d8d02",
   "metadata": {},
   "outputs": [],
   "source": [
    "year = 2021\n",
    "base_url = 'https://editorialexpress.com/conference/AFA{}/program/AFA{}.html'.format(year, year)"
   ]
  },
  {
   "cell_type": "code",
   "execution_count": 24,
   "id": "bfd9b402-ca7b-4144-bca2-4e0c0129e07b",
   "metadata": {},
   "outputs": [],
   "source": [
    "session = HTMLSession()\n",
    "request = session.get(base_url)"
   ]
  },
  {
   "cell_type": "code",
   "execution_count": 31,
   "id": "26071c4d-48ae-4a58-8f61-b1b9b87cc4ab",
   "metadata": {},
   "outputs": [],
   "source": [
    "test_link = 'https://editorialexpress.com/cgi-bin/conference/download.cgi?db_name=AFA2021&paper_id=198'"
   ]
  },
  {
   "cell_type": "code",
   "execution_count": 32,
   "id": "0b7e0fb7-caf5-49f0-888c-77ba11c80107",
   "metadata": {},
   "outputs": [
    {
     "ename": "AttributeError",
     "evalue": "'str' object has no attribute 'contains'",
     "output_type": "error",
     "traceback": [
      "\u001b[1;31m---------------------------------------------------------------------------\u001b[0m",
      "\u001b[1;31mAttributeError\u001b[0m                            Traceback (most recent call last)",
      "\u001b[1;32m~\\AppData\\Local\\Temp/ipykernel_5252/4287791799.py\u001b[0m in \u001b[0;36m<module>\u001b[1;34m\u001b[0m\n\u001b[1;32m----> 1\u001b[1;33m \u001b[0mtest_link\u001b[0m\u001b[1;33m.\u001b[0m\u001b[0mcontains\u001b[0m\u001b[1;33m(\u001b[0m\u001b[1;34m'editorialexpress'\u001b[0m\u001b[1;33m)\u001b[0m\u001b[1;33m\u001b[0m\u001b[1;33m\u001b[0m\u001b[0m\n\u001b[0m",
      "\u001b[1;31mAttributeError\u001b[0m: 'str' object has no attribute 'contains'"
     ]
    }
   ],
   "source": [
    "test_link.contains('editorialexpress')"
   ]
  },
  {
   "cell_type": "code",
   "execution_count": 47,
   "id": "d0473759-68b1-4c75-8139-d8bd1d90a892",
   "metadata": {},
   "outputs": [],
   "source": [
    "link_list = []\n",
    "for link in request.html.links:\n",
    "    string_list = ['editorialexpress','ssrn']\n",
    "    if any(string in link for string in string_list):\n",
    "        link_list.append(link)"
   ]
  },
  {
   "cell_type": "code",
   "execution_count": 48,
   "id": "ac1794da-0603-4e20-9e08-0562960a6ebd",
   "metadata": {},
   "outputs": [
    {
     "data": {
      "text/plain": [
       "233"
      ]
     },
     "execution_count": 48,
     "metadata": {},
     "output_type": "execute_result"
    }
   ],
   "source": [
    "len(link_list)"
   ]
  },
  {
   "cell_type": "code",
   "execution_count": 49,
   "id": "2a3b7695-44df-4344-b063-6b65142b367a",
   "metadata": {},
   "outputs": [
    {
     "data": {
      "text/plain": [
       "['https://editorialexpress.com/cgi-bin/conference/download.cgi?db_name=AFA2021&paper_id=198',\n",
       " 'https://editorialexpress.com/cgi-bin/conference/download.cgi?db_name=AFA2021&paper_id=1101',\n",
       " 'https://editorialexpress.com/cgi-bin/conference/download.cgi?db_name=AFA2021&paper_id=689',\n",
       " 'https://editorialexpress.com/cgi-bin/conference/download.cgi?db_name=AFA2021&paper_id=1271',\n",
       " 'https://editorialexpress.com/cgi-bin/conference/download.cgi?db_name=AFA2021&paper_id=780',\n",
       " 'https://editorialexpress.com/cgi-bin/conference/download.cgi?db_name=AFA2021&paper_id=1146',\n",
       " 'https://editorialexpress.com/cgi-bin/conference/download.cgi?db_name=AFA2021&paper_id=1724',\n",
       " 'https://editorialexpress.com/cgi-bin/conference/download.cgi?db_name=AFA2021&paper_id=214',\n",
       " 'https://editorialexpress.com/cgi-bin/conference/download.cgi?db_name=AFA2021&paper_id=1723',\n",
       " 'https://editorialexpress.com/cgi-bin/conference/download.cgi?db_name=AFA2021&paper_id=1677',\n",
       " 'https://editorialexpress.com/cgi-bin/conference/download.cgi?db_name=AFA2021&paper_id=1307',\n",
       " 'https://editorialexpress.com/cgi-bin/conference/download.cgi?db_name=AFA2021&paper_id=651',\n",
       " 'https://editorialexpress.com/cgi-bin/conference/download.cgi?db_name=AFA2021&paper_id=741',\n",
       " 'https://editorialexpress.com/cgi-bin/conference/download.cgi?db_name=AFA2021&paper_id=1154',\n",
       " 'https://editorialexpress.com/cgi-bin/conference/download.cgi?db_name=AFA2021&paper_id=532',\n",
       " 'https://editorialexpress.com/cgi-bin/conference/download.cgi?db_name=AFA2021&paper_id=769',\n",
       " 'https://editorialexpress.com/cgi-bin/conference/download.cgi?db_name=AFA2021&paper_id=675',\n",
       " 'https://editorialexpress.com/cgi-bin/conference/download.cgi?db_name=AFA2021&paper_id=1710',\n",
       " 'https://editorialexpress.com/cgi-bin/conference/download.cgi?db_name=AFA2021&paper_id=1090',\n",
       " 'https://editorialexpress.com/cgi-bin/conference/download.cgi?db_name=AFA2021&paper_id=254',\n",
       " 'https://editorialexpress.com/cgi-bin/conference/download.cgi?db_name=AFA2021&paper_id=566',\n",
       " 'https://editorialexpress.com/cgi-bin/conference/download.cgi?db_name=AFA2021&paper_id=768',\n",
       " 'https://editorialexpress.com/cgi-bin/conference/download.cgi?db_name=AFA2021&paper_id=1152',\n",
       " 'https://editorialexpress.com/cgi-bin/conference/download.cgi?db_name=AFA2021&paper_id=1231',\n",
       " 'https://editorialexpress.com/cgi-bin/conference/download.cgi?db_name=AFA2021&paper_id=1171',\n",
       " 'https://editorialexpress.com/cgi-bin/conference/download.cgi?db_name=AFA2021&paper_id=690',\n",
       " 'https://editorialexpress.com/cgi-bin/conference/download.cgi?db_name=AFA2021&paper_id=749',\n",
       " 'https://editorialexpress.com/cgi-bin/conference/download.cgi?db_name=AFA2021&paper_id=507',\n",
       " 'https://editorialexpress.com/cgi-bin/conference/download.cgi?db_name=AFA2021&paper_id=1574',\n",
       " 'https://editorialexpress.com/cgi-bin/conference/download.cgi?db_name=AFA2021&paper_id=481',\n",
       " 'https://editorialexpress.com/cgi-bin/conference/download.cgi?db_name=AFA2021&paper_id=259',\n",
       " 'https://papers.ssrn.com/sol3/papers.cfm?abstract_id=3744519',\n",
       " 'https://editorialexpress.com/cgi-bin/conference/download.cgi?db_name=AFA2021&paper_id=850',\n",
       " 'https://editorialexpress.com/cgi-bin/conference/download.cgi?db_name=AFA2021&paper_id=437',\n",
       " 'https://editorialexpress.com/cgi-bin/conference/download.cgi?db_name=AFA2021&paper_id=1730',\n",
       " 'https://editorialexpress.com/cgi-bin/conference/download.cgi?db_name=AFA2021&paper_id=95',\n",
       " 'https://editorialexpress.com/cgi-bin/conference/download.cgi?db_name=AFA2021&paper_id=1260',\n",
       " 'https://editorialexpress.com/cgi-bin/conference/download.cgi?db_name=AFA2021&paper_id=118',\n",
       " 'https://editorialexpress.com/cgi-bin/conference/download.cgi?db_name=AFA2021&paper_id=1649',\n",
       " 'https://editorialexpress.com/cgi-bin/conference/download.cgi?db_name=AFA2021&paper_id=608',\n",
       " 'https://editorialexpress.com/cgi-bin/conference/download.cgi?db_name=AFA2021&paper_id=331',\n",
       " 'https://editorialexpress.com/cgi-bin/conference/download.cgi?db_name=AFA2021&paper_id=372',\n",
       " 'https://editorialexpress.com/cgi-bin/conference/download.cgi?db_name=AFA2021&paper_id=663',\n",
       " 'https://editorialexpress.com/cgi-bin/conference/download.cgi?db_name=AFA2021&paper_id=1651',\n",
       " 'https://editorialexpress.com/cgi-bin/conference/download.cgi?db_name=AFA2021&paper_id=809',\n",
       " 'https://editorialexpress.com/cgi-bin/conference/download.cgi?db_name=AFA2021&paper_id=1504',\n",
       " 'https://editorialexpress.com/cgi-bin/conference/download.cgi?db_name=AFA2021&paper_id=140',\n",
       " 'https://editorialexpress.com/cgi-bin/conference/download.cgi?db_name=AFA2021&paper_id=1220',\n",
       " 'https://editorialexpress.com/cgi-bin/conference/download.cgi?db_name=AFA2021&paper_id=1283',\n",
       " 'https://editorialexpress.com/cgi-bin/conference/download.cgi?db_name=AFA2021&paper_id=1641',\n",
       " 'https://editorialexpress.com/cgi-bin/conference/download.cgi?db_name=AFA2021&paper_id=64',\n",
       " 'https://editorialexpress.com/cgi-bin/conference/download.cgi?db_name=AFA2021&paper_id=957',\n",
       " 'https://editorialexpress.com/cgi-bin/conference/download.cgi?db_name=AFA2021&paper_id=1575',\n",
       " 'https://editorialexpress.com/cgi-bin/conference/download.cgi?db_name=AFA2021&paper_id=264',\n",
       " 'https://editorialexpress.com/cgi-bin/conference/download.cgi?db_name=AFA2021&paper_id=1360',\n",
       " 'https://editorialexpress.com/cgi-bin/conference/download.cgi?db_name=AFA2021&paper_id=1249',\n",
       " 'https://editorialexpress.com/cgi-bin/conference/download.cgi?db_name=AFA2021&paper_id=35',\n",
       " 'https://editorialexpress.com/cgi-bin/conference/download.cgi?db_name=AFA2021&paper_id=1061',\n",
       " 'https://editorialexpress.com/cgi-bin/conference/download.cgi?db_name=AFA2021&paper_id=368',\n",
       " 'https://editorialexpress.com/cgi-bin/conference/download.cgi?db_name=AFA2021&paper_id=1733',\n",
       " 'https://editorialexpress.com/cgi-bin/conference/download.cgi?db_name=AFA2021&paper_id=652',\n",
       " 'https://editorialexpress.com/cgi-bin/conference/download.cgi?db_name=AFA2021&paper_id=837',\n",
       " 'https://editorialexpress.com/cgi-bin/conference/download.cgi?db_name=AFA2021&paper_id=1666',\n",
       " 'https://editorialexpress.com/cgi-bin/conference/download.cgi?db_name=AFA2021&paper_id=1083',\n",
       " 'https://editorialexpress.com/cgi-bin/conference/download.cgi?db_name=AFA2021&paper_id=679',\n",
       " 'https://editorialexpress.com/cgi-bin/conference/download.cgi?db_name=AFA2021&paper_id=680',\n",
       " 'https://editorialexpress.com/cgi-bin/conference/download.cgi?db_name=AFA2021&paper_id=1527',\n",
       " 'https://editorialexpress.com/cgi-bin/conference/download.cgi?db_name=AFA2021&paper_id=1312',\n",
       " 'https://editorialexpress.com/cgi-bin/conference/download.cgi?db_name=AFA2021&paper_id=454',\n",
       " 'https://editorialexpress.com/cgi-bin/conference/download.cgi?db_name=AFA2021&paper_id=1172',\n",
       " 'https://editorialexpress.com/cgi-bin/conference/download.cgi?db_name=AFA2021&paper_id=38',\n",
       " 'https://editorialexpress.com/cgi-bin/conference/download.cgi?db_name=AFA2021&paper_id=430',\n",
       " 'https://editorialexpress.com/cgi-bin/conference/download.cgi?db_name=AFA2021&paper_id=1663',\n",
       " 'https://editorialexpress.com/cgi-bin/conference/download.cgi?db_name=AFA2021&paper_id=865',\n",
       " 'https://editorialexpress.com/cgi-bin/conference/download.cgi?db_name=AFA2021&paper_id=1054',\n",
       " 'https://editorialexpress.com/cgi-bin/conference/download.cgi?db_name=AFA2021&paper_id=1727',\n",
       " 'https://editorialexpress.com/cgi-bin/conference/download.cgi?db_name=AFA2021&paper_id=976',\n",
       " 'https://editorialexpress.com/cgi-bin/conference/download.cgi?db_name=AFA2021&paper_id=1720',\n",
       " 'https://editorialexpress.com/cgi-bin/conference/download.cgi?db_name=AFA2021&paper_id=31',\n",
       " 'https://editorialexpress.com/cgi-bin/conference/download.cgi?db_name=AFA2021&paper_id=1474',\n",
       " 'https://editorialexpress.com/cgi-bin/conference/download.cgi?db_name=AFA2021&paper_id=722',\n",
       " 'https://editorialexpress.com/cgi-bin/conference/download.cgi?db_name=AFA2021&paper_id=199',\n",
       " 'https://editorialexpress.com/cgi-bin/conference/download.cgi?db_name=AFA2021&paper_id=1719',\n",
       " 'https://editorialexpress.com/cgi-bin/conference/download.cgi?db_name=AFA2021&paper_id=1427',\n",
       " 'https://editorialexpress.com/cgi-bin/conference/download.cgi?db_name=AFA2021&paper_id=1104',\n",
       " 'https://editorialexpress.com/cgi-bin/conference/download.cgi?db_name=AFA2021&paper_id=681',\n",
       " 'https://editorialexpress.com/cgi-bin/conference/download.cgi?db_name=AFA2021&paper_id=862',\n",
       " 'https://editorialexpress.com/cgi-bin/conference/download.cgi?db_name=AFA2021&paper_id=873',\n",
       " 'https://editorialexpress.com/cgi-bin/conference/download.cgi?db_name=AFA2021&paper_id=1508',\n",
       " 'https://editorialexpress.com/cgi-bin/conference/download.cgi?db_name=AFA2021&paper_id=1549',\n",
       " 'https://editorialexpress.com/cgi-bin/conference/download.cgi?db_name=AFA2021&paper_id=115',\n",
       " 'https://editorialexpress.com/cgi-bin/conference/download.cgi?db_name=AFA2021&paper_id=929',\n",
       " 'https://editorialexpress.com/cgi-bin/conference/download.cgi?db_name=AFA2021&paper_id=845',\n",
       " 'https://editorialexpress.com/cgi-bin/conference/download.cgi?db_name=AFA2021&paper_id=1186',\n",
       " 'https://editorialexpress.com/cgi-bin/conference/download.cgi?db_name=AFA2021&paper_id=277',\n",
       " 'https://editorialexpress.com/cgi-bin/conference/download.cgi?db_name=AFA2021&paper_id=1722',\n",
       " 'https://editorialexpress.com/cgi-bin/conference/download.cgi?db_name=AFA2021&paper_id=1267',\n",
       " 'https://editorialexpress.com/cgi-bin/conference/download.cgi?db_name=AFA2021&paper_id=1580',\n",
       " 'https://editorialexpress.com/cgi-bin/conference/download.cgi?db_name=AFA2021&paper_id=252',\n",
       " 'https://editorialexpress.com/cgi-bin/conference/download.cgi?db_name=AFA2021&paper_id=1429',\n",
       " 'https://editorialexpress.com/cgi-bin/conference/download.cgi?db_name=AFA2021&paper_id=557',\n",
       " 'https://editorialexpress.com/cgi-bin/conference/download.cgi?db_name=AFA2021&paper_id=640',\n",
       " 'https://editorialexpress.com/cgi-bin/conference/download.cgi?db_name=AFA2021&paper_id=1564',\n",
       " 'https://editorialexpress.com/cgi-bin/conference/download.cgi?db_name=AFA2021&paper_id=225',\n",
       " 'https://editorialexpress.com/cgi-bin/conference/download.cgi?db_name=AFA2021&paper_id=1230',\n",
       " 'https://editorialexpress.com/cgi-bin/conference/download.cgi?db_name=AFA2021&paper_id=784',\n",
       " 'https://editorialexpress.com/cgi-bin/conference/download.cgi?db_name=AFA2021&paper_id=1125',\n",
       " 'https://editorialexpress.com/cgi-bin/conference/download.cgi?db_name=AFA2021&paper_id=1600',\n",
       " 'https://editorialexpress.com/cgi-bin/conference/download.cgi?db_name=AFA2021&paper_id=79',\n",
       " 'https://editorialexpress.com/cgi-bin/conference/download.cgi?db_name=AFA2021&paper_id=432',\n",
       " 'https://editorialexpress.com/cgi-bin/conference/download.cgi?db_name=AFA2021&paper_id=1585',\n",
       " 'https://editorialexpress.com/cgi-bin/conference/download.cgi?db_name=AFA2021&paper_id=1424',\n",
       " 'https://editorialexpress.com/cgi-bin/conference/download.cgi?db_name=AFA2021&paper_id=1308',\n",
       " 'https://editorialexpress.com/cgi-bin/conference/download.cgi?db_name=AFA2021&paper_id=818',\n",
       " 'https://editorialexpress.com/cgi-bin/conference/download.cgi?db_name=AFA2021&paper_id=174',\n",
       " 'https://editorialexpress.com/cgi-bin/conference/download.cgi?db_name=AFA2021&paper_id=1713',\n",
       " 'https://editorialexpress.com/cgi-bin/conference/download.cgi?db_name=AFA2021&paper_id=1579',\n",
       " 'https://editorialexpress.com/cgi-bin/conference/download.cgi?db_name=AFA2021&paper_id=1541',\n",
       " 'https://editorialexpress.com/cgi-bin/conference/download.cgi?db_name=AFA2021&paper_id=336',\n",
       " 'https://editorialexpress.com/cgi-bin/conference/download.cgi?db_name=AFA2021&paper_id=1130',\n",
       " 'https://editorialexpress.com/cgi-bin/conference/download.cgi?db_name=AFA2021&paper_id=945',\n",
       " 'https://editorialexpress.com/cgi-bin/conference/download.cgi?db_name=AFA2021&paper_id=149',\n",
       " 'https://editorialexpress.com/cgi-bin/conference/download.cgi?db_name=AFA2021&paper_id=517',\n",
       " 'https://editorialexpress.com/cgi-bin/conference/download.cgi?db_name=AFA2021&paper_id=1464',\n",
       " 'https://editorialexpress.com/cgi-bin/conference/download.cgi?db_name=AFA2021&paper_id=419',\n",
       " 'https://editorialexpress.com/cgi-bin/conference/download.cgi?db_name=AFA2021&paper_id=1731',\n",
       " 'https://editorialexpress.com/cgi-bin/conference/download.cgi?db_name=AFA2021&paper_id=783',\n",
       " 'https://editorialexpress.com/cgi-bin/conference/download.cgi?db_name=AFA2021&paper_id=795',\n",
       " 'https://editorialexpress.com/cgi-bin/conference/download.cgi?db_name=AFA2021&paper_id=63',\n",
       " 'https://editorialexpress.com/cgi-bin/conference/download.cgi?db_name=AFA2021&paper_id=319',\n",
       " 'https://editorialexpress.com/cgi-bin/conference/download.cgi?db_name=AFA2021&paper_id=669',\n",
       " 'https://editorialexpress.com/cgi-bin/conference/download.cgi?db_name=AFA2021&paper_id=1263',\n",
       " 'https://editorialexpress.com/cgi-bin/conference/download.cgi?db_name=AFA2021&paper_id=1644',\n",
       " 'https://editorialexpress.com/cgi-bin/conference/download.cgi?db_name=AFA2021&paper_id=1620',\n",
       " 'https://editorialexpress.com/cgi-bin/conference/download.cgi?db_name=AFA2021&paper_id=1488',\n",
       " 'https://editorialexpress.com/cgi-bin/conference/download.cgi?db_name=AFA2021&paper_id=1725',\n",
       " 'https://editorialexpress.com/cgi-bin/conference/download.cgi?db_name=AFA2021&paper_id=1253',\n",
       " 'https://editorialexpress.com/cgi-bin/conference/download.cgi?db_name=AFA2021&paper_id=573',\n",
       " 'https://editorialexpress.com/cgi-bin/conference/download.cgi?db_name=AFA2021&paper_id=1244',\n",
       " 'https://editorialexpress.com/cgi-bin/conference/download.cgi?db_name=AFA2021&paper_id=772',\n",
       " 'https://editorialexpress.com/cgi-bin/conference/download.cgi?db_name=AFA2021&paper_id=1601',\n",
       " 'https://editorialexpress.com/cgi-bin/conference/download.cgi?db_name=AFA2021&paper_id=1728',\n",
       " 'https://editorialexpress.com/cgi-bin/conference/download.cgi?db_name=AFA2021&paper_id=486',\n",
       " 'https://editorialexpress.com/cgi-bin/conference/download.cgi?db_name=AFA2021&paper_id=1310',\n",
       " 'https://editorialexpress.com/cgi-bin/conference/download.cgi?db_name=AFA2021&paper_id=401',\n",
       " 'https://editorialexpress.com/cgi-bin/conference/download.cgi?db_name=AFA2021&paper_id=1254',\n",
       " 'https://editorialexpress.com/cgi-bin/conference/download.cgi?db_name=AFA2021&paper_id=1129',\n",
       " 'https://editorialexpress.com/cgi-bin/conference/download.cgi?db_name=AFA2021&paper_id=1422',\n",
       " 'https://editorialexpress.com/cgi-bin/conference/download.cgi?db_name=AFA2021&paper_id=305',\n",
       " 'https://editorialexpress.com/cgi-bin/conference/download.cgi?db_name=AFA2021&paper_id=727',\n",
       " 'https://editorialexpress.com/cgi-bin/conference/download.cgi?db_name=AFA2021&paper_id=520',\n",
       " 'https://editorialexpress.com/cgi-bin/conference/download.cgi?db_name=AFA2021&paper_id=1175',\n",
       " 'https://papers.ssrn.com/sol3/papers.cfm?abstract_id=3351939',\n",
       " 'https://editorialexpress.com/cgi-bin/conference/download.cgi?db_name=AFA2021&paper_id=1202',\n",
       " 'https://editorialexpress.com/cgi-bin/conference/download.cgi?db_name=AFA2021&paper_id=1322',\n",
       " 'https://editorialexpress.com/cgi-bin/conference/download.cgi?db_name=AFA2021&paper_id=1576',\n",
       " 'https://editorialexpress.com/cgi-bin/conference/download.cgi?db_name=AFA2021&paper_id=858',\n",
       " 'https://editorialexpress.com/cgi-bin/conference/download.cgi?db_name=AFA2021&paper_id=1699',\n",
       " 'https://editorialexpress.com/cgi-bin/conference/download.cgi?db_name=AFA2021&paper_id=1471',\n",
       " 'https://editorialexpress.com/cgi-bin/conference/download.cgi?db_name=AFA2021&paper_id=1094',\n",
       " 'https://editorialexpress.com/cgi-bin/conference/download.cgi?db_name=AFA2021&paper_id=100',\n",
       " 'https://editorialexpress.com/cgi-bin/conference/download.cgi?db_name=AFA2021&paper_id=438',\n",
       " 'https://editorialexpress.com/cgi-bin/conference/download.cgi?db_name=AFA2021&paper_id=1706',\n",
       " 'https://editorialexpress.com/cgi-bin/conference/download.cgi?db_name=AFA2021&paper_id=1721',\n",
       " 'https://editorialexpress.com/cgi-bin/conference/download.cgi?db_name=AFA2021&paper_id=175',\n",
       " 'https://editorialexpress.com/cgi-bin/conference/download.cgi?db_name=AFA2021&paper_id=1435',\n",
       " 'https://editorialexpress.com/cgi-bin/conference/download.cgi?db_name=AFA2021&paper_id=1411',\n",
       " 'https://editorialexpress.com/cgi-bin/conference/download.cgi?db_name=AFA2021&paper_id=910',\n",
       " 'https://editorialexpress.com/cgi-bin/conference/download.cgi?db_name=AFA2021&paper_id=448',\n",
       " 'https://editorialexpress.com/cgi-bin/conference/download.cgi?db_name=AFA2021&paper_id=221',\n",
       " 'https://editorialexpress.com/cgi-bin/conference/download.cgi?db_name=AFA2021&paper_id=399',\n",
       " 'https://editorialexpress.com/cgi-bin/conference/download.cgi?db_name=AFA2021&paper_id=838',\n",
       " 'https://editorialexpress.com/cgi-bin/conference/download.cgi?db_name=AFA2021&paper_id=1587',\n",
       " 'https://editorialexpress.com/cgi-bin/conference/download.cgi?db_name=AFA2021&paper_id=241',\n",
       " 'https://editorialexpress.com/cgi-bin/conference/download.cgi?db_name=AFA2021&paper_id=327',\n",
       " 'https://editorialexpress.com/cgi-bin/conference/download.cgi?db_name=AFA2021&paper_id=232',\n",
       " 'https://editorialexpress.com/cgi-bin/conference/download.cgi?db_name=AFA2021&paper_id=730',\n",
       " 'https://editorialexpress.com/cgi-bin/conference/download.cgi?db_name=AFA2021&paper_id=657',\n",
       " 'https://editorialexpress.com/cgi-bin/conference/download.cgi?db_name=AFA2021&paper_id=738',\n",
       " 'https://editorialexpress.com/cgi-bin/conference/download.cgi?db_name=AFA2021&paper_id=1557',\n",
       " 'https://editorialexpress.com/cgi-bin/conference/download.cgi?db_name=AFA2021&paper_id=688',\n",
       " 'https://editorialexpress.com/cgi-bin/conference/download.cgi?db_name=AFA2021&paper_id=1082',\n",
       " 'https://editorialexpress.com/cgi-bin/conference/download.cgi?db_name=AFA2021&paper_id=1718',\n",
       " 'https://editorialexpress.com/cgi-bin/conference/download.cgi?db_name=AFA2021&paper_id=1400',\n",
       " 'https://editorialexpress.com/cgi-bin/conference/download.cgi?db_name=AFA2021&paper_id=947',\n",
       " 'https://editorialexpress.com/cgi-bin/conference/download.cgi?db_name=AFA2021&paper_id=413',\n",
       " 'https://editorialexpress.com/cgi-bin/conference/download.cgi?db_name=AFA2021&paper_id=236',\n",
       " 'https://editorialexpress.com/cgi-bin/conference/download.cgi?db_name=AFA2021&paper_id=1729',\n",
       " 'https://editorialexpress.com/cgi-bin/conference/download.cgi?db_name=AFA2021&paper_id=334',\n",
       " 'https://editorialexpress.com/cgi-bin/conference/download.cgi?db_name=AFA2021&paper_id=1732',\n",
       " 'https://editorialexpress.com/cgi-bin/conference/download.cgi?db_name=AFA2021&paper_id=1561',\n",
       " 'https://editorialexpress.com/cgi-bin/conference/download.cgi?db_name=AFA2021&paper_id=1002',\n",
       " 'https://editorialexpress.com/cgi-bin/conference/download.cgi?db_name=AFA2021&paper_id=156',\n",
       " 'https://editorialexpress.com/cgi-bin/conference/download.cgi?db_name=AFA2021&paper_id=1717',\n",
       " 'https://editorialexpress.com/cgi-bin/conference/download.cgi?db_name=AFA2021&paper_id=1409',\n",
       " 'https://editorialexpress.com/cgi-bin/conference/download.cgi?db_name=AFA2021&paper_id=1120',\n",
       " 'https://editorialexpress.com/cgi-bin/conference/download.cgi?db_name=AFA2021&paper_id=1726',\n",
       " 'https://papers.ssrn.com/sol3/papers.cfm?abstract_id=3554788',\n",
       " 'https://editorialexpress.com/cgi-bin/conference/download.cgi?db_name=AFA2021&paper_id=1147',\n",
       " 'https://editorialexpress.com/cgi-bin/conference/download.cgi?db_name=AFA2021&paper_id=1637',\n",
       " 'https://editorialexpress.com/cgi-bin/conference/download.cgi?db_name=AFA2021&paper_id=1170',\n",
       " 'https://editorialexpress.com/cgi-bin/conference/download.cgi?db_name=AFA2021&paper_id=959',\n",
       " 'https://editorialexpress.com/cgi-bin/conference/download.cgi?db_name=AFA2021&paper_id=1669',\n",
       " 'https://editorialexpress.com/cgi-bin/conference/download.cgi?db_name=AFA2021&paper_id=330',\n",
       " 'https://editorialexpress.com/cgi-bin/conference/download.cgi?db_name=AFA2021&paper_id=466',\n",
       " 'https://editorialexpress.com/cgi-bin/conference/download.cgi?db_name=AFA2021&paper_id=1123',\n",
       " 'https://editorialexpress.com/cgi-bin/conference/download.cgi?db_name=AFA2021&paper_id=1033',\n",
       " 'https://editorialexpress.com/cgi-bin/conference/download.cgi?db_name=AFA2021&paper_id=792',\n",
       " 'https://editorialexpress.com/cgi-bin/conference/download.cgi?db_name=AFA2021&paper_id=1158',\n",
       " 'https://editorialexpress.com/cgi-bin/conference/download.cgi?db_name=AFA2021&paper_id=1448',\n",
       " 'https://editorialexpress.com/cgi-bin/conference/download.cgi?db_name=AFA2021&paper_id=853',\n",
       " 'https://editorialexpress.com/cgi-bin/conference/download.cgi?db_name=AFA2021&paper_id=1442',\n",
       " 'https://editorialexpress.com/cgi-bin/conference/download.cgi?db_name=AFA2021&paper_id=1586',\n",
       " 'https://editorialexpress.com/cgi-bin/conference/download.cgi?db_name=AFA2021&paper_id=1675',\n",
       " 'https://editorialexpress.com/cgi-bin/conference/download.cgi?db_name=AFA2021&paper_id=1359',\n",
       " 'https://editorialexpress.com/cgi-bin/conference/download.cgi?db_name=AFA2021&paper_id=1694',\n",
       " 'https://editorialexpress.com/cgi-bin/conference/download.cgi?db_name=AFA2021&paper_id=292',\n",
       " 'https://editorialexpress.com/cgi-bin/conference/download.cgi?db_name=AFA2021&paper_id=682',\n",
       " 'https://editorialexpress.com/cgi-bin/conference/download.cgi?db_name=AFA2021&paper_id=1087',\n",
       " 'https://editorialexpress.com/cgi-bin/conference/download.cgi?db_name=AFA2021&paper_id=1165',\n",
       " 'https://editorialexpress.com/cgi-bin/conference/download.cgi?db_name=AFA2021&paper_id=717',\n",
       " 'https://editorialexpress.com/cgi-bin/conference/download.cgi?db_name=AFA2021&paper_id=967',\n",
       " 'https://editorialexpress.com/cgi-bin/conference/download.cgi?db_name=AFA2021&paper_id=991',\n",
       " 'https://editorialexpress.com/cgi-bin/conference/download.cgi?db_name=AFA2021&paper_id=888',\n",
       " 'https://editorialexpress.com/cgi-bin/conference/download.cgi?db_name=AFA2021&paper_id=696',\n",
       " 'https://editorialexpress.com/cgi-bin/conference/download.cgi?db_name=AFA2021&paper_id=686',\n",
       " 'https://editorialexpress.com/cgi-bin/conference/download.cgi?db_name=AFA2021&paper_id=650',\n",
       " 'https://editorialexpress.com/cgi-bin/conference/download.cgi?db_name=AFA2021&paper_id=664',\n",
       " 'https://editorialexpress.com/cgi-bin/conference/download.cgi?db_name=AFA2021&paper_id=725',\n",
       " 'https://editorialexpress.com/cgi-bin/conference/download.cgi?db_name=AFA2021&paper_id=398',\n",
       " 'https://editorialexpress.com/cgi-bin/conference/download.cgi?db_name=AFA2021&paper_id=821',\n",
       " 'https://editorialexpress.com/cgi-bin/conference/download.cgi?db_name=AFA2021&paper_id=1609',\n",
       " 'https://editorialexpress.com/cgi-bin/conference/download.cgi?db_name=AFA2021&paper_id=824']"
      ]
     },
     "execution_count": 49,
     "metadata": {},
     "output_type": "execute_result"
    }
   ],
   "source": [
    "link_list"
   ]
  },
  {
   "cell_type": "code",
   "execution_count": 28,
   "id": "9d351689-1581-4d77-aee1-f17791cfd974",
   "metadata": {},
   "outputs": [
    {
     "ename": "KeyError",
     "evalue": "'pop from an empty set'",
     "output_type": "error",
     "traceback": [
      "\u001b[1;31m---------------------------------------------------------------------------\u001b[0m",
      "\u001b[1;31mKeyError\u001b[0m                                  Traceback (most recent call last)",
      "\u001b[1;32m~\\AppData\\Local\\Temp/ipykernel_5252/3656021510.py\u001b[0m in \u001b[0;36m<module>\u001b[1;34m\u001b[0m\n\u001b[1;32m----> 1\u001b[1;33m \u001b[0mtest_url_list\u001b[0m \u001b[1;33m=\u001b[0m \u001b[1;33m[\u001b[0m\u001b[0mi\u001b[0m\u001b[1;33m.\u001b[0m\u001b[0mabsolute_links\u001b[0m\u001b[1;33m.\u001b[0m\u001b[0mpop\u001b[0m\u001b[1;33m(\u001b[0m\u001b[1;33m)\u001b[0m \u001b[1;32mfor\u001b[0m \u001b[0mi\u001b[0m \u001b[1;32min\u001b[0m \u001b[0mrequest\u001b[0m\u001b[1;33m.\u001b[0m\u001b[0mhtml\u001b[0m\u001b[1;33m.\u001b[0m\u001b[0mfind\u001b[0m\u001b[1;33m(\u001b[0m\u001b[1;34m'p'\u001b[0m\u001b[1;33m)\u001b[0m\u001b[1;33m]\u001b[0m\u001b[1;33m\u001b[0m\u001b[1;33m\u001b[0m\u001b[0m\n\u001b[0m\u001b[0;32m      2\u001b[0m \u001b[0mtest_url_list\u001b[0m\u001b[1;33m\u001b[0m\u001b[1;33m\u001b[0m\u001b[0m\n",
      "\u001b[1;32m~\\AppData\\Local\\Temp/ipykernel_5252/3656021510.py\u001b[0m in \u001b[0;36m<listcomp>\u001b[1;34m(.0)\u001b[0m\n\u001b[1;32m----> 1\u001b[1;33m \u001b[0mtest_url_list\u001b[0m \u001b[1;33m=\u001b[0m \u001b[1;33m[\u001b[0m\u001b[0mi\u001b[0m\u001b[1;33m.\u001b[0m\u001b[0mabsolute_links\u001b[0m\u001b[1;33m.\u001b[0m\u001b[0mpop\u001b[0m\u001b[1;33m(\u001b[0m\u001b[1;33m)\u001b[0m \u001b[1;32mfor\u001b[0m \u001b[0mi\u001b[0m \u001b[1;32min\u001b[0m \u001b[0mrequest\u001b[0m\u001b[1;33m.\u001b[0m\u001b[0mhtml\u001b[0m\u001b[1;33m.\u001b[0m\u001b[0mfind\u001b[0m\u001b[1;33m(\u001b[0m\u001b[1;34m'p'\u001b[0m\u001b[1;33m)\u001b[0m\u001b[1;33m]\u001b[0m\u001b[1;33m\u001b[0m\u001b[1;33m\u001b[0m\u001b[0m\n\u001b[0m\u001b[0;32m      2\u001b[0m \u001b[0mtest_url_list\u001b[0m\u001b[1;33m\u001b[0m\u001b[1;33m\u001b[0m\u001b[0m\n",
      "\u001b[1;31mKeyError\u001b[0m: 'pop from an empty set'"
     ]
    }
   ],
   "source": [
    "test_url_list = [i.absolute_links.pop() for i in request.html.find('p')]\n",
    "test_url_list"
   ]
  },
  {
   "cell_type": "markdown",
   "id": "83ccf0f0-f563-403c-bd6d-b3b4432de6de",
   "metadata": {},
   "source": [
    "## Get Topics and Paper number list"
   ]
  },
  {
   "cell_type": "code",
   "execution_count": null,
   "id": "d4f701d3-d643-4ade-aefa-9814399eedad",
   "metadata": {},
   "outputs": [],
   "source": []
  }
 ],
 "metadata": {
  "kernelspec": {
   "display_name": "Python 3 (ipykernel)",
   "language": "python",
   "name": "python3"
  },
  "language_info": {
   "codemirror_mode": {
    "name": "ipython",
    "version": 3
   },
   "file_extension": ".py",
   "mimetype": "text/x-python",
   "name": "python",
   "nbconvert_exporter": "python",
   "pygments_lexer": "ipython3",
   "version": "3.8.12"
  }
 },
 "nbformat": 4,
 "nbformat_minor": 5
}
