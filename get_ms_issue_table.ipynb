{
 "cells": [
  {
   "cell_type": "code",
   "execution_count": null,
   "metadata": {},
   "outputs": [],
   "source": [
    "from requests_html import HTMLSession"
   ]
  },
  {
   "cell_type": "code",
   "execution_count": null,
   "metadata": {},
   "outputs": [],
   "source": [
    "url = 'https://pubsonline.informs.org/toc/mnsc/current'\n",
    "s = HTMLSession()\n",
    "r = s.get(url)"
   ]
  },
  {
   "cell_type": "code",
   "execution_count": null,
   "metadata": {},
   "outputs": [],
   "source": [
    "# getting issue table\n",
    "table = r.html.find('div.loi__issue')"
   ]
  },
  {
   "cell_type": "code",
   "execution_count": null,
   "metadata": {},
   "outputs": [],
   "source": [
    "temp = 'Volume 63Issue 10'\n",
    "# temp = 'Volume 3Issue 10'"
   ]
  },
  {
   "cell_type": "code",
   "execution_count": null,
   "metadata": {},
   "outputs": [],
   "source": [
    "temp[:temp.find('Issue')]"
   ]
  },
  {
   "cell_type": "code",
   "execution_count": null,
   "metadata": {},
   "outputs": [],
   "source": [
    "temp[:temp.find('Issue')][-2:]"
   ]
  },
  {
   "cell_type": "code",
   "execution_count": null,
   "metadata": {},
   "outputs": [],
   "source": [
    "temp[temp.find('Issue'):]"
   ]
  },
  {
   "cell_type": "code",
   "execution_count": null,
   "metadata": {},
   "outputs": [],
   "source": [
    "temp[temp.find('Issue'):][-2:]"
   ]
  },
  {
   "cell_type": "code",
   "execution_count": null,
   "metadata": {},
   "outputs": [],
   "source": [
    "def ms_issue_list():\n",
    "    url = 'https://pubsonline.informs.org/toc/mnsc/current'\n",
    "    s = HTMLSession()\n",
    "    r = s.get(url)\n",
    "    table = r.html.find('div.loi__issue')\n",
    "    \n",
    "    ms_dict = {}\n",
    "    for item in table:\n",
    "    #     vol = item.find('span.comma',first=True).text\n",
    "        string = item.find('div.loi__issue>div.parent-item>a',first=True).text\n",
    "        vol = string[:string.find('Issue')].split('Volume')[1].strip()\n",
    "        iss = string[string.find('Issue'):].split('Issue')[1].strip()\n",
    "        if vol not in ms_dict.keys():\n",
    "            ms_dict[vol] = []\n",
    "        ms_dict[vol].append(iss)\n",
    "    return(ms_dict)"
   ]
  }
 ],
 "metadata": {
  "kernelspec": {
   "display_name": "Python 3",
   "language": "python",
   "name": "python3"
  },
  "language_info": {
   "codemirror_mode": {
    "name": "ipython",
    "version": 3
   },
   "file_extension": ".py",
   "mimetype": "text/x-python",
   "name": "python",
   "nbconvert_exporter": "python",
   "pygments_lexer": "ipython3",
   "version": "3.6.7"
  }
 },
 "nbformat": 4,
 "nbformat_minor": 2
}
