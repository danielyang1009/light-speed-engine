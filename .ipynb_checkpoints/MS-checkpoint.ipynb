{
 "cells": [
  {
   "cell_type": "code",
   "execution_count": 166,
   "metadata": {},
   "outputs": [],
   "source": [
    "from bs4 import BeautifulSoup\n",
    "import requests\n",
    "import json\n",
    "import os\n",
    "import re\n",
    "import gc"
   ]
  },
  {
   "cell_type": "code",
   "execution_count": 20,
   "metadata": {},
   "outputs": [],
   "source": [
    "ms_curr_url = 'https://pubsonline.informs.org/toc/mnsc/65/2'"
   ]
  },
  {
   "cell_type": "code",
   "execution_count": 21,
   "metadata": {},
   "outputs": [],
   "source": [
    "s = requests.Session()\n",
    "# s.post(some_url, data={'username':'','password':''})\n",
    "r = s.get(ms_curr_url)\n",
    "soup = BeautifulSoup(r.text, 'html')"
   ]
  },
  {
   "cell_type": "markdown",
   "metadata": {},
   "source": [
    "## issue header"
   ]
  },
  {
   "cell_type": "code",
   "execution_count": 165,
   "metadata": {},
   "outputs": [
    {
     "data": {
      "text/plain": [
       "'Volume 65, Issue 2'"
      ]
     },
     "execution_count": 165,
     "metadata": {},
     "output_type": "execute_result"
    }
   ],
   "source": [
    "soup.find('div','cover-image__details').h2.text"
   ]
  },
  {
   "cell_type": "code",
   "execution_count": 163,
   "metadata": {},
   "outputs": [
    {
     "data": {
      "text/plain": [
       "'February 2019'"
      ]
     },
     "execution_count": 163,
     "metadata": {},
     "output_type": "execute_result"
    }
   ],
   "source": [
    "soup.find('div').find('div','volume--date').text"
   ]
  },
  {
   "cell_type": "code",
   "execution_count": 164,
   "metadata": {},
   "outputs": [
    {
     "data": {
      "text/plain": [
       "'Pages v-vi, 459-954'"
      ]
     },
     "execution_count": 164,
     "metadata": {},
     "output_type": "execute_result"
    }
   ],
   "source": [
    "soup.find('div','volume--pages').text"
   ]
  },
  {
   "cell_type": "markdown",
   "metadata": {},
   "source": [
    "## issue items"
   ]
  },
  {
   "cell_type": "code",
   "execution_count": 153,
   "metadata": {},
   "outputs": [],
   "source": [
    "issue_item = soup.find_all('div', 'issue-item')"
   ]
  },
  {
   "cell_type": "code",
   "execution_count": 170,
   "metadata": {},
   "outputs": [
    {
     "data": {
      "text/plain": [
       "27"
      ]
     },
     "execution_count": 170,
     "metadata": {},
     "output_type": "execute_result"
    }
   ],
   "source": [
    "len(issue_item)"
   ]
  },
  {
   "cell_type": "markdown",
   "metadata": {},
   "source": [
    "### get title "
   ]
  },
  {
   "cell_type": "code",
   "execution_count": 154,
   "metadata": {},
   "outputs": [
    {
     "data": {
      "text/plain": [
       "'Do General Managerial Skills Spur Innovation?'"
      ]
     },
     "execution_count": 154,
     "metadata": {},
     "output_type": "execute_result"
    }
   ],
   "source": [
    "issue_item[1].h5.a.text"
   ]
  },
  {
   "cell_type": "markdown",
   "metadata": {},
   "source": [
    "### get authors "
   ]
  },
  {
   "cell_type": "code",
   "execution_count": 89,
   "metadata": {},
   "outputs": [
    {
     "name": "stdout",
     "output_type": "stream",
     "text": [
      "Cláudia Custódio \n",
      "Miguel A. Ferreira \n",
      "Pedro Matos \n"
     ]
    }
   ],
   "source": [
    "for _ in issue_item[1].find_all('a', 'entryAuthor'):\n",
    "    print(_.text) "
   ]
  },
  {
   "cell_type": "markdown",
   "metadata": {},
   "source": [
    "### get date "
   ]
  },
  {
   "cell_type": "code",
   "execution_count": 146,
   "metadata": {},
   "outputs": [
    {
     "data": {
      "text/plain": [
       "'September 25, 2017'"
      ]
     },
     "execution_count": 146,
     "metadata": {},
     "output_type": "execute_result"
    }
   ],
   "source": [
    "issue_item[1].find('div', 'toc-item__detail').find_all('p')[1].text[17:]"
   ]
  },
  {
   "cell_type": "markdown",
   "metadata": {},
   "source": [
    "### get abstract"
   ]
  },
  {
   "cell_type": "code",
   "execution_count": 149,
   "metadata": {},
   "outputs": [
    {
     "data": {
      "text/plain": [
       "'We show that firms with chief executive officers (CEOs) who gain general managerial skills over their lifetime of work experience produce more patents. We address the potential endogenous CEO–firm matching bias using firm–CEO fixed effects and variation ...'"
      ]
     },
     "execution_count": 149,
     "metadata": {},
     "output_type": "execute_result"
    }
   ],
   "source": [
    "issue_item[1].find('span', 'hlFld-Abstract').text"
   ]
  },
  {
   "cell_type": "markdown",
   "metadata": {},
   "source": [
    "### get link"
   ]
  },
  {
   "cell_type": "code",
   "execution_count": 233,
   "metadata": {},
   "outputs": [
    {
     "data": {
      "text/plain": [
       "'https://doi.org/10.1287/mnsc.2017.2828'"
      ]
     },
     "execution_count": 233,
     "metadata": {},
     "output_type": "execute_result"
    }
   ],
   "source": [
    "issue_item[1].find('p',recursive=False).a['href']"
   ]
  },
  {
   "cell_type": "markdown",
   "metadata": {},
   "source": [
    "## to json"
   ]
  },
  {
   "cell_type": "code",
   "execution_count": 171,
   "metadata": {},
   "outputs": [],
   "source": [
    "# to dict\n",
    "ms_dict = {'issue':soup.find('div','cover-image__details').h2.text, \n",
    "           'date':soup.find('div').find('div','volume--date').text, \n",
    "           'page':soup.find('div','volume--pages').text, \n",
    "           'issue_item_num': len(soup.find_all('div', 'issue-item'))}"
   ]
  },
  {
   "cell_type": "markdown",
   "metadata": {},
   "source": [
    "## to dot md"
   ]
  },
  {
   "cell_type": "code",
   "execution_count": 280,
   "metadata": {},
   "outputs": [],
   "source": [
    "md_file = open('201902MS1.md','w')\n",
    "\n",
    "# volume and issue\n",
    "md_file.write('# {}\\n'.format(soup.find('div','cover-image__details').h2.text))\n",
    "# date\n",
    "md_file.write('\\n- {}'.format(soup.find('div').find('div','volume--date').text))\n",
    "# pages\n",
    "md_file.write('\\n- {}'.format(soup.find('div','volume--pages').text))\n",
    "\n",
    "issue_item = soup.find_all('div', 'issue-item')\n",
    "# len\n",
    "md_file.write('\\n- {} Articles\\n'.format(len(issue_item)))\n",
    "md_file.write('\\n## {}\\n\\n'.format('Issue Items:'))\n",
    "\n",
    "for c, item in enumerate(issue_item):\n",
    "    md_file.write('### {}. {}\\n'.format(c+1, item.h5.a.text))\n",
    "    md_file.write('#### Author(s):\\n'.format())\n",
    "    for author in item.find_all('a', 'entryAuthor'):\n",
    "        md_file.write('- {}\\n'.format(author.text))\n",
    "    md_file.write('#### Date:\\n- {}\\n'.format(item.find('div', 'toc-item__detail').find_all('p')[1].text[17:]))\n",
    "    md_file.write('#### Abstract:\\n{}\\n'.format(item.find('span', 'hlFld-Abstract').text))\n",
    "    md_file.write('#### Link:\\n- {}\\n'.format(item.find('p',recursive=False).a['href']))\n",
    "    \n",
    "    md_file.write('\\n')\n",
    "\n",
    "md_file.close()"
   ]
  },
  {
   "cell_type": "markdown",
   "metadata": {},
   "source": [
    "## function"
   ]
  },
  {
   "cell_type": "code",
   "execution_count": 334,
   "metadata": {},
   "outputs": [],
   "source": [
    "def get_ms(volume, issue):\n",
    "    base_url = 'https://pubsonline.informs.org/toc/mnsc/'\n",
    "    s = requests.Session()\n",
    "    r = s.get(base_url+str(volume)+'/'+str(issue))\n",
    "    soup = BeautifulSoup(r.text, 'html')\n",
    "    md_file = open('Volume {:02d} - Issue {:02d}.md'.format(volume,issue),'w')\n",
    "\n",
    "    # volume and issue\n",
    "    md_file.write('# {}\\n'.format(soup.find('div','cover-image__details').h2.text))\n",
    "    # date\n",
    "    md_file.write('\\n- {}'.format(soup.find('div').find('div','volume--date').text))\n",
    "    # pages\n",
    "    md_file.write('\\n- {}'.format(soup.find('div','volume--pages').text))\n",
    "\n",
    "    issue_item = soup.find_all('div', 'issue-item')\n",
    "    # len\n",
    "    md_file.write('\\n- {} Articles\\n'.format(len(issue_item)))\n",
    "    md_file.write('\\n## {}\\n\\n'.format('Issue Items:'))\n",
    "\n",
    "    for c, item in enumerate(issue_item):\n",
    "        md_file.write('### {}. {}\\n'.format(c+1, item.h5.a.text))\n",
    "        md_file.write('#### Author(s):\\n'.format())\n",
    "        for author in item.find_all('a', 'entryAuthor'):\n",
    "            md_file.write('- {}\\n'.format(author.text))\n",
    "        md_file.write('#### Date:\\n- {}\\n'.format(item.find('div', 'toc-item__detail').find_all('p')[1].text[17:]))\n",
    "        try:\n",
    "            md_file.write('#### Abstract:\\n{}\\n'.format(item.find('span', 'hlFld-Abstract').text))\n",
    "        except:\n",
    "            md_file.write('#### Abstract:\\n{}\\n'.format(''))\n",
    "        md_file.write('#### Link:\\n- {}\\n'.format(item.find('p',recursive=False).a['href']))\n",
    "\n",
    "        md_file.write('\\n')\n",
    "\n",
    "    md_file.close()"
   ]
  },
  {
   "cell_type": "code",
   "execution_count": 242,
   "metadata": {},
   "outputs": [],
   "source": [
    "base_url = 'https://pubsonline.informs.org/toc/mnsc/'"
   ]
  },
  {
   "cell_type": "code",
   "execution_count": 304,
   "metadata": {},
   "outputs": [],
   "source": [
    "file_dir_name = 'MS'\n",
    "\n",
    "if os.getcwd()[13:] == 'light-speed-engine':\n",
    "    if os.path.isdir(file_dir_name):\n",
    "        os.chdir(file_dir_name)\n",
    "    else:\n",
    "        os.mkdir(file_dir_name)\n",
    "        os.chdir(file_dir_name)\n",
    "else:\n",
    "    print('ERORR: Not in the right folder')"
   ]
  },
  {
   "cell_type": "code",
   "execution_count": 346,
   "metadata": {},
   "outputs": [
    {
     "data": {
      "text/plain": [
       "'/Users/dyang/light-speed-engine/MS'"
      ]
     },
     "execution_count": 346,
     "metadata": {},
     "output_type": "execute_result"
    }
   ],
   "source": [
    "os.getcwd()"
   ]
  },
  {
   "cell_type": "code",
   "execution_count": 345,
   "metadata": {},
   "outputs": [],
   "source": [
    "os.chdir('..')"
   ]
  },
  {
   "cell_type": "code",
   "execution_count": 302,
   "metadata": {},
   "outputs": [],
   "source": [
    "os.chdir('light-speed-engine')"
   ]
  },
  {
   "cell_type": "code",
   "execution_count": 347,
   "metadata": {
    "scrolled": false
   },
   "outputs": [
    {
     "name": "stdout",
     "output_type": "stream",
     "text": [
      "getting volune 56 issue 01\n",
      "getting volune 56 issue 02\n",
      "getting volune 56 issue 03\n",
      "getting volune 56 issue 04\n",
      "getting volune 56 issue 05\n",
      "getting volune 56 issue 06\n",
      "getting volune 56 issue 07\n",
      "getting volune 56 issue 08\n",
      "getting volune 56 issue 09\n",
      "getting volune 56 issue 10\n",
      "getting volune 56 issue 11\n",
      "getting volune 56 issue 12\n",
      "getting volune 57 issue 01\n",
      "getting volune 57 issue 02\n",
      "getting volune 57 issue 03\n",
      "getting volune 57 issue 04\n",
      "getting volune 57 issue 05\n",
      "getting volune 57 issue 06\n",
      "getting volune 57 issue 07\n",
      "getting volune 57 issue 08\n",
      "getting volune 57 issue 09\n",
      "getting volune 57 issue 10\n",
      "getting volune 57 issue 11\n",
      "getting volune 57 issue 12\n",
      "getting volune 58 issue 01\n",
      "getting volune 58 issue 02\n",
      "getting volune 58 issue 03\n",
      "getting volune 58 issue 04\n",
      "getting volune 58 issue 05\n",
      "getting volune 58 issue 06\n",
      "getting volune 58 issue 07\n",
      "getting volune 58 issue 08\n",
      "getting volune 58 issue 09\n",
      "getting volune 58 issue 10\n",
      "getting volune 58 issue 11\n",
      "getting volune 58 issue 12\n",
      "getting volune 59 issue 01\n",
      "getting volune 59 issue 02\n",
      "getting volune 59 issue 03\n",
      "getting volune 59 issue 04\n",
      "getting volune 59 issue 05\n",
      "getting volune 59 issue 06\n",
      "getting volune 59 issue 07\n",
      "getting volune 59 issue 08\n",
      "getting volune 59 issue 09\n",
      "getting volune 59 issue 10\n",
      "getting volune 59 issue 11\n",
      "getting volune 59 issue 12\n",
      "getting volune 60 issue 01\n",
      "getting volune 60 issue 02\n",
      "getting volune 60 issue 03\n",
      "getting volune 60 issue 04\n",
      "getting volune 60 issue 05\n",
      "getting volune 60 issue 06\n",
      "getting volune 60 issue 07\n",
      "getting volune 60 issue 08\n",
      "getting volune 60 issue 09\n",
      "getting volune 60 issue 10\n",
      "getting volune 60 issue 11\n",
      "getting volune 60 issue 12\n",
      "getting volune 61 issue 01\n",
      "getting volune 61 issue 02\n",
      "getting volune 61 issue 03\n",
      "getting volune 61 issue 04\n",
      "getting volune 61 issue 05\n",
      "getting volune 61 issue 06\n",
      "getting volune 61 issue 07\n",
      "getting volune 61 issue 08\n",
      "getting volune 61 issue 09\n",
      "getting volune 61 issue 10\n",
      "getting volune 61 issue 11\n",
      "getting volune 61 issue 12\n",
      "getting volune 62 issue 01\n",
      "getting volune 62 issue 02\n",
      "getting volune 62 issue 03\n",
      "getting volune 62 issue 04\n",
      "getting volune 62 issue 05\n",
      "getting volune 62 issue 06\n",
      "getting volune 62 issue 07\n",
      "getting volune 62 issue 08\n",
      "getting volune 62 issue 09\n",
      "getting volune 62 issue 10\n",
      "getting volune 62 issue 11\n",
      "getting volune 62 issue 12\n",
      "getting volune 63 issue 01\n",
      "getting volune 63 issue 02\n",
      "getting volune 63 issue 03\n",
      "getting volune 63 issue 04\n",
      "getting volune 63 issue 05\n",
      "getting volune 63 issue 06\n",
      "getting volune 63 issue 07\n",
      "getting volune 63 issue 08\n",
      "getting volune 63 issue 09\n",
      "getting volune 63 issue 10\n",
      "getting volune 63 issue 11\n",
      "getting volune 63 issue 12\n",
      "getting volune 64 issue 01\n",
      "getting volune 64 issue 02\n",
      "getting volune 64 issue 03\n",
      "getting volune 64 issue 04\n",
      "getting volune 64 issue 05\n",
      "getting volune 64 issue 06\n",
      "getting volune 64 issue 07\n",
      "getting volune 64 issue 08\n",
      "getting volune 64 issue 09\n",
      "getting volune 64 issue 10\n",
      "getting volune 64 issue 11\n",
      "getting volune 64 issue 12\n"
     ]
    }
   ],
   "source": [
    "for i in range(56,65):\n",
    "    folder = 'Volume {:02d}'.format(i)\n",
    "    if os.path.isdir(folder):\n",
    "        os.chdir(folder)\n",
    "    else:\n",
    "        os.mkdir(folder)\n",
    "        os.chdir(folder)\n",
    "    for j in range(1,13):\n",
    "        print('getting volune {:02d} issue {:02d}'.format(i,j))\n",
    "        get_ms(i,j)\n",
    "    os.chdir('..')"
   ]
  }
 ],
 "metadata": {
  "kernelspec": {
   "display_name": "Python 3",
   "language": "python",
   "name": "python3"
  },
  "language_info": {
   "codemirror_mode": {
    "name": "ipython",
    "version": 3
   },
   "file_extension": ".py",
   "mimetype": "text/x-python",
   "name": "python",
   "nbconvert_exporter": "python",
   "pygments_lexer": "ipython3",
   "version": "3.7.2"
  }
 },
 "nbformat": 4,
 "nbformat_minor": 2
}
