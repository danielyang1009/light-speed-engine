{
 "cells": [
  {
   "cell_type": "code",
   "execution_count": 166,
   "metadata": {},
   "outputs": [],
   "source": [
    "from bs4 import BeautifulSoup\n",
    "import requests\n",
    "import json\n",
    "import os\n",
    "import re\n",
    "import gc"
   ]
  },
  {
   "cell_type": "code",
   "execution_count": 20,
   "metadata": {},
   "outputs": [],
   "source": [
    "ms_curr_url = 'https://pubsonline.informs.org/toc/mnsc/65/2'"
   ]
  },
  {
   "cell_type": "code",
   "execution_count": 21,
   "metadata": {},
   "outputs": [],
   "source": [
    "s = requests.Session()\n",
    "# s.post(some_url, data={'username':'','password':''})\n",
    "r = s.get(ms_curr_url)\n",
    "soup = BeautifulSoup(r.text, 'html')"
   ]
  },
  {
   "cell_type": "markdown",
   "metadata": {},
   "source": [
    "## issue header"
   ]
  },
  {
   "cell_type": "code",
   "execution_count": 165,
   "metadata": {},
   "outputs": [
    {
     "data": {
      "text/plain": [
       "'Volume 65, Issue 2'"
      ]
     },
     "execution_count": 165,
     "metadata": {},
     "output_type": "execute_result"
    }
   ],
   "source": [
    "soup.find('div','cover-image__details').h2.text"
   ]
  },
  {
   "cell_type": "code",
   "execution_count": 163,
   "metadata": {},
   "outputs": [
    {
     "data": {
      "text/plain": [
       "'February 2019'"
      ]
     },
     "execution_count": 163,
     "metadata": {},
     "output_type": "execute_result"
    }
   ],
   "source": [
    "soup.find('div').find('div','volume--date').text"
   ]
  },
  {
   "cell_type": "code",
   "execution_count": 164,
   "metadata": {},
   "outputs": [
    {
     "data": {
      "text/plain": [
       "'Pages v-vi, 459-954'"
      ]
     },
     "execution_count": 164,
     "metadata": {},
     "output_type": "execute_result"
    }
   ],
   "source": [
    "soup.find('div','volume--pages').text"
   ]
  },
  {
   "cell_type": "markdown",
   "metadata": {},
   "source": [
    "## issue items"
   ]
  },
  {
   "cell_type": "code",
   "execution_count": 153,
   "metadata": {},
   "outputs": [],
   "source": [
    "issue_item = soup.find_all('div', 'issue-item')"
   ]
  },
  {
   "cell_type": "code",
   "execution_count": 170,
   "metadata": {},
   "outputs": [
    {
     "data": {
      "text/plain": [
       "27"
      ]
     },
     "execution_count": 170,
     "metadata": {},
     "output_type": "execute_result"
    }
   ],
   "source": [
    "len(issue_item)"
   ]
  },
  {
   "cell_type": "markdown",
   "metadata": {},
   "source": [
    "### get title "
   ]
  },
  {
   "cell_type": "code",
   "execution_count": 154,
   "metadata": {},
   "outputs": [
    {
     "data": {
      "text/plain": [
       "'Do General Managerial Skills Spur Innovation?'"
      ]
     },
     "execution_count": 154,
     "metadata": {},
     "output_type": "execute_result"
    }
   ],
   "source": [
    "issue_item[1].h5.a.text"
   ]
  },
  {
   "cell_type": "markdown",
   "metadata": {},
   "source": [
    "### get authors "
   ]
  },
  {
   "cell_type": "code",
   "execution_count": 89,
   "metadata": {},
   "outputs": [
    {
     "name": "stdout",
     "output_type": "stream",
     "text": [
      "Cláudia Custódio \n",
      "Miguel A. Ferreira \n",
      "Pedro Matos \n"
     ]
    }
   ],
   "source": [
    "for _ in issue_item[1].find_all('a', 'entryAuthor'):\n",
    "    print(_.text) "
   ]
  },
  {
   "cell_type": "markdown",
   "metadata": {},
   "source": [
    "### get date "
   ]
  },
  {
   "cell_type": "code",
   "execution_count": 146,
   "metadata": {},
   "outputs": [
    {
     "data": {
      "text/plain": [
       "'September 25, 2017'"
      ]
     },
     "execution_count": 146,
     "metadata": {},
     "output_type": "execute_result"
    }
   ],
   "source": [
    "issue_item[1].find('div', 'toc-item__detail').find_all('p')[1].text[17:]"
   ]
  },
  {
   "cell_type": "markdown",
   "metadata": {},
   "source": [
    "### get abstract"
   ]
  },
  {
   "cell_type": "code",
   "execution_count": 149,
   "metadata": {},
   "outputs": [
    {
     "data": {
      "text/plain": [
       "'We show that firms with chief executive officers (CEOs) who gain general managerial skills over their lifetime of work experience produce more patents. We address the potential endogenous CEO–firm matching bias using firm–CEO fixed effects and variation ...'"
      ]
     },
     "execution_count": 149,
     "metadata": {},
     "output_type": "execute_result"
    }
   ],
   "source": [
    "issue_item[1].find('span', 'hlFld-Abstract').text"
   ]
  },
  {
   "cell_type": "markdown",
   "metadata": {},
   "source": [
    "## to json"
   ]
  },
  {
   "cell_type": "code",
   "execution_count": 171,
   "metadata": {},
   "outputs": [],
   "source": [
    "# to dict\n",
    "ms_dict = {'issue':soup.find('div','cover-image__details').h2.text, \n",
    "           'date':soup.find('div').find('div','volume--date').text, \n",
    "           'page':soup.find('div','volume--pages').text, \n",
    "           'issue_item_num': len(soup.find_all('div', 'issue-item'))}"
   ]
  },
  {
   "cell_type": "markdown",
   "metadata": {},
   "source": [
    "## to dot md"
   ]
  },
  {
   "cell_type": "code",
   "execution_count": null,
   "metadata": {},
   "outputs": [],
   "source": [
    "md_file.write(''.format())"
   ]
  },
  {
   "cell_type": "code",
   "execution_count": 222,
   "metadata": {},
   "outputs": [],
   "source": [
    "md_file = open('201902MS.md','w')\n",
    "\n",
    "# volume and issue\n",
    "md_file.write('# {}\\n'.format(soup.find('div','cover-image__details').h2.text))\n",
    "# date\n",
    "md_file.write('\\n{}'.format(soup.find('div').find('div','volume--date').text))\n",
    "# pages\n",
    "md_file.write('\\n{}'.format(soup.find('div','volume--pages').text))\n",
    "\n",
    "issue_item = soup.find_all('div', 'issue-item')\n",
    "# len\n",
    "md_file.write('\\nTotal Articles: {}\\n'.format(len(issue_item)))\n",
    "md_file.write('\\n## {}\\n\\n'.format('Issue Items:'))\n",
    "\n",
    "for item in issue_item:\n",
    "    md_file.write('### {}\\n'.format(item.h5.a.text))\n",
    "    md_file.write('#### Author(s):\\n'.format())\n",
    "    for author in item.find_all('a', 'entryAuthor'):\n",
    "        md_file.write('- {}\\n'.format(author.text))\n",
    "    md_file.write('#### Date:\\n- {}\\n'.format(issue_item[1].find('div', 'toc-item__detail').find_all('p')[1].text[17:]))\n",
    "    md_file.write('#### Abstract:\\n{}\\n'.format(issue_item[1].find('span', 'hlFld-Abstract').text))\n",
    "    \n",
    "    md_file.write('\\n')\n",
    "\n",
    "md_file.close()"
   ]
  }
 ],
 "metadata": {
  "kernelspec": {
   "display_name": "Python 3",
   "language": "python",
   "name": "python3"
  },
  "language_info": {
   "codemirror_mode": {
    "name": "ipython",
    "version": 3
   },
   "file_extension": ".py",
   "mimetype": "text/x-python",
   "name": "python",
   "nbconvert_exporter": "python",
   "pygments_lexer": "ipython3",
   "version": "3.7.2"
  }
 },
 "nbformat": 4,
 "nbformat_minor": 2
}
