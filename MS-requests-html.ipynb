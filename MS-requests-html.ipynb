{
 "cells": [
  {
   "cell_type": "markdown",
   "metadata": {},
   "source": [
    "### IMPORT"
   ]
  },
  {
   "cell_type": "code",
   "execution_count": null,
   "metadata": {},
   "outputs": [],
   "source": [
    "from requests_html import HTMLSession\n",
    "import os\n",
    "import time\n",
    "from tqdm import tqdm"
   ]
  },
  {
   "cell_type": "markdown",
   "metadata": {},
   "source": [
    "### TEST"
   ]
  },
  {
   "cell_type": "code",
   "execution_count": null,
   "metadata": {},
   "outputs": [],
   "source": [
    "# main page\n",
    "session = HTMLSession()\n",
    "url = 'https://pubsonline.informs.org/toc/mnsc/19/7'\n",
    "r = session.get(url)"
   ]
  },
  {
   "cell_type": "code",
   "execution_count": null,
   "metadata": {},
   "outputs": [],
   "source": [
    "content = r.html.find('div.issue-item')"
   ]
  },
  {
   "cell_type": "code",
   "execution_count": null,
   "metadata": {},
   "outputs": [],
   "source": [
    "<div class=\"issue-item\">\n",
    "<div class=\"badges\">\n",
    "    <span class=\"access__icon icon-Icon_Permissions-Locked\"/>\n",
    "</div><h5 class=\"issue-item__title\">\n",
    "<a href=\"/doi/abs/10.1287/mnsc.19.7.717\">Semi-Markov Decision Processes with Unbounded Rewards</a></h5><ul aria-label=\"author\" class=\"rlist--inline loa\"><a class=\"entryAuthor linkable hlFld-ContribAuthor\" href=\"/author/Lippman%2C+Steven+A\">Steven A. Lippman</a></ul><div class=\"rlist--inline separator toc-item__detail\"><p><span>Pages:</span>717–731</p><p><span>Published Online:</span>March 1, 1973</p></div><p><a href=\"https://doi.org/10.1287/mnsc.19.7.717\">https://doi.org/10.1287/mnsc.19.7.717</a></p><div class=\"toc-item__footer\"><ul class=\"rlist--inline separator toc-item__detail\"><li><a href=\"/doi/fpi/10.1287/mnsc.19.7.717\" title=\"Abstract\"><span>First Page</span></a></li><li><a href=\"/doi/pdf/10.1287/mnsc.19.7.717\" title=\"PDF\"><span>PDF&#13;\\n                             (582 KB)</span></a></li><li><a class=\"rightslink\" href=\"/servlet/linkout?type=rightslinkBasic&amp;url=issn%3D1526-5501%26WT.mc.id%3DINFORMS\">Permissions</a></li></ul><div class=\"accordion\"><a class=\"accordion__control\" href=\"#\" title=\"Preview Abstract\"><span>Preview Abstract<i class=\"icon-section_arrow_d\"/></span></a><div class=\"accordion__content toc-item__abstract\" style=\"display: none;\"><h5 class=\"article-section__title section__title\">&#13;\\n            Abstract&#13;\\n        </h5><span class=\"hlFld-Abstract\">We consider a semi-Markov decision process with arbitrary action space; the state space is the nonnegative integers. As in queueing systems, we assume that {0, 1, 2, …, <i>n</i> + <i>N</i>} is the set of states accessible from state <i>n</i> in one transition, where <i>N</i> is ...<i/><i/></span></div></div></div></div>        "
   ]
  },
  {
   "cell_type": "code",
   "execution_count": null,
   "metadata": {},
   "outputs": [],
   "source": [
    "content[0].html"
   ]
  },
  {
   "cell_type": "code",
   "execution_count": null,
   "metadata": {},
   "outputs": [],
   "source": [
    "content[0].find('a',first=True).absolute_links.pop()"
   ]
  },
  {
   "cell_type": "code",
   "execution_count": null,
   "metadata": {},
   "outputs": [],
   "source": [
    "# sub page\n",
    "session = HTMLSession()\n",
    "url = 'https://doi.org/10.1287/mnsc.19.7.751'\n",
    "r = session.get(url)"
   ]
  },
  {
   "cell_type": "code",
   "execution_count": null,
   "metadata": {},
   "outputs": [],
   "source": []
  },
  {
   "cell_type": "code",
   "execution_count": null,
   "metadata": {},
   "outputs": [],
   "source": [
    "r = r.html.find('div.article__content',first=True)"
   ]
  },
  {
   "cell_type": "code",
   "execution_count": null,
   "metadata": {},
   "outputs": [],
   "source": [
    "r.find('div.table-of-content p>a')"
   ]
  },
  {
   "cell_type": "code",
   "execution_count": null,
   "metadata": {},
   "outputs": [],
   "source": [
    "# title\n",
    "r.find('h1.citation__title',first=True).text"
   ]
  },
  {
   "cell_type": "code",
   "execution_count": null,
   "metadata": {},
   "outputs": [],
   "source": [
    "# author\n",
    "temp = r.find('div.accordion-tabbed.loa-accordion a.entryAuthor')\n",
    "for _ in temp:\n",
    "    print(_.text)"
   ]
  },
  {
   "cell_type": "code",
   "execution_count": null,
   "metadata": {},
   "outputs": [],
   "source": [
    "# link\n",
    "r.find('div.epub-section a.epub-section__doi__text',first=True).text"
   ]
  },
  {
   "cell_type": "code",
   "execution_count": null,
   "metadata": {},
   "outputs": [],
   "source": [
    "# date\n",
    "r.find('div.epub-section span.epub-section__date',first=True).text"
   ]
  },
  {
   "cell_type": "code",
   "execution_count": null,
   "metadata": {},
   "outputs": [],
   "source": [
    "# abstract\n",
    "r.find('div.abstractInFull',first=True).text"
   ]
  },
  {
   "cell_type": "markdown",
   "metadata": {},
   "source": [
    "### MAIN"
   ]
  },
  {
   "cell_type": "code",
   "execution_count": null,
   "metadata": {},
   "outputs": [],
   "source": [
    "MS_URL = 'https://pubsonline.informs.org/toc/mnsc/'\n",
    "MAX_RETRY = 3\n",
    "\n",
    "def get_ms_issue_list():\n",
    "    url = 'https://pubsonline.informs.org/toc/mnsc/current'\n",
    "    s = HTMLSession()\n",
    "    r = s.get(url)\n",
    "    table = r.html.find('div.loi__issue')\n",
    "    \n",
    "    ms_dict = {}\n",
    "    for item in table:\n",
    "    #     vol = item.find('span.comma',first=True).text\n",
    "        string = item.find('div.loi__issue>div.parent-item>a',first=True).text\n",
    "        vol = string[:string.find('Issue')].split('Volume')[1].strip()\n",
    "        iss = string[string.find('Issue'):].split('Issue')[1].strip()\n",
    "        if vol not in ms_dict.keys():\n",
    "            ms_dict[vol] = []\n",
    "        ms_dict[vol].append(iss)\n",
    "    return(ms_dict)\n",
    "\n",
    "\n",
    "def ms_main(vol, iss):\n",
    "    if os.getcwd()[13:] != 'light-speed-engine':\n",
    "        print('Not in the right folder')\n",
    "    else:\n",
    "        path= 'MS' + '/' + 'Volume ' + vol\n",
    "        os.makedirs(path,exist_ok=True)\n",
    "        os.chdir(path)\n",
    "        \n",
    "        # get item link list\n",
    "        session = HTMLSession()\n",
    "        main_request = session.get(MS_URL + vol + '/' + iss) \n",
    "        # main_request: get links for all articles\n",
    "        items = main_request.html.find('div.issue-item')\n",
    "        url_list = [] # doi address\n",
    "        url_list_bak = [] # pubsonline long address\n",
    "        for item in items:\n",
    "            url_list.append(item.find('div.issue-item>p>a',first=True).absolute_links.pop())\n",
    "            url_list_bak.append(item.find('a',first=True).absolute_links.pop())    \n",
    "        # start write md file\n",
    "        # check vol, iss format\n",
    "        if vol.isdigit():\n",
    "            vol = '{:02d}'.format(int(vol))\n",
    "        if iss.isdigit():\n",
    "            iss = '{:02d}'.format(int(iss))\n",
    "        md_file = open('Volume {} - Issue {}.md'.format(vol, iss),'w',errors='ignore')\n",
    "        # title\n",
    "        md_file.write('# Volume {}, Issue {}\\n'.format(vol, iss))\n",
    "        # date\n",
    "        md_file.write('- {}\\n'.format(main_request.html.find('div.volume--date', first=True).text))\n",
    "        # page\n",
    "        md_file.write('- {}\\n'.format(main_request.html.find('div.volume--pages', first=True).text))\n",
    "        # editor\n",
    "        md_file.write('- {}\\n\\n'.format(main_request.html.find('div.editor-in-chief>span', first=True).text))\n",
    "        \n",
    "        # get issue\n",
    "        print('Volume {}, Issue {}: {}'.format(vol, iss, len(url_list)))\n",
    "        for num, url in enumerate(url_list):            \n",
    "            print('#{} '.format(num+1),end='')\n",
    "            \n",
    "            #try to solve proxyerror\n",
    "            try:\n",
    "                sub_request = session.get(url)\n",
    "                if sub_request.status_code == 404: \n",
    "                    sub_request = session.get(url_list_bak[num])\n",
    "            except:\n",
    "                # anyway to check if request is sucessful?\n",
    "                for i in range(1,MAX_RETRY+1):\n",
    "                    time.sleep(1) # wait 1s\n",
    "                    print('RETRY#{} '.format(i))\n",
    "                    try:\n",
    "                        sub_request = session.get(url)\n",
    "                        if sub_request.status_code == 404: \n",
    "                            sub_request = session.get(url_list_bak[num])\n",
    "                    except:\n",
    "                        pass\n",
    "\n",
    "            # only keep main body\n",
    "            sub_request = sub_request.html.find('div.article__content',first=True)\n",
    "            # title\n",
    "#             print(sub_request.find('h1.citation__title',first=True).text)\n",
    "            md_file.write('## {}. {}\\n'.format(num+1 ,sub_request.find('h1.citation__title',first=True).text))\n",
    "            # author(s)\n",
    "            md_file.write('### Author(s):\\n')\n",
    "            for author in sub_request.find('div.accordion-tabbed.loa-accordion a.entryAuthor'):\n",
    "                md_file.write('- {}\\n'.format(author.text))    \n",
    "            # date\n",
    "            md_file.write('### Published:\\n- {}\\n'.format(sub_request.find('div.epub-section span.epub-section__date',first=True).text))\n",
    "            # Abstract\n",
    "            try:\n",
    "                md_file.write('### Abstract:\\n{}\\n'.format(sub_request.find('div.abstractInFull>p',first=True).text))\n",
    "            except:\n",
    "                md_file.write('### Abstract:\\n{}\\n'.format('None'))        \n",
    "            # Link\n",
    "            md_file.write('### Link:\\n- {}\\n\\n'.format(url))\n",
    "        md_file.close()\n",
    "        print('DONE!')\n",
    "    # return back to root folder\n",
    "    os.chdir('../..')"
   ]
  },
  {
   "cell_type": "code",
   "execution_count": null,
   "metadata": {},
   "outputs": [],
   "source": [
    "MS_ISSUE_LIST = get_ms_issue_list()"
   ]
  },
  {
   "cell_type": "code",
   "execution_count": null,
   "metadata": {
    "scrolled": false
   },
   "outputs": [],
   "source": [
    "MS_ISSUE_LIST"
   ]
  },
  {
   "cell_type": "code",
   "execution_count": null,
   "metadata": {},
   "outputs": [],
   "source": [
    "%%time\n",
    "ms_main('1','1')"
   ]
  },
  {
   "cell_type": "code",
   "execution_count": null,
   "metadata": {},
   "outputs": [],
   "source": [
    "vol = 'MT-1'\n",
    "for item in MS_ISSUE_LIST[vol]:\n",
    "    ms_main(vol,item)"
   ]
  },
  {
   "cell_type": "code",
   "execution_count": null,
   "metadata": {
    "scrolled": false
   },
   "outputs": [],
   "source": [
    "%%time\n",
    "for i in range(1,6):\n",
    "    vol = str(i)\n",
    "    for item in MS_ISSUE_LIST[vol]:\n",
    "        ms_main(vol,item)"
   ]
  }
 ],
 "metadata": {
  "kernelspec": {
   "display_name": "Python 3",
   "language": "python",
   "name": "python3"
  },
  "language_info": {
   "codemirror_mode": {
    "name": "ipython",
    "version": 3
   },
   "file_extension": ".py",
   "mimetype": "text/x-python",
   "name": "python",
   "nbconvert_exporter": "python",
   "pygments_lexer": "ipython3",
   "version": "3.7.2"
  }
 },
 "nbformat": 4,
 "nbformat_minor": 2
}
