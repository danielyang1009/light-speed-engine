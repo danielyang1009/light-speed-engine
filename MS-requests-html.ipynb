{
 "cells": [
  {
   "cell_type": "markdown",
   "metadata": {},
   "source": [
    "### IMPORT"
   ]
  },
  {
   "cell_type": "code",
   "execution_count": 4,
   "metadata": {},
   "outputs": [],
   "source": [
    "from requests_html import HTMLSession\n",
    "import os\n",
    "from tqdm import tqdm"
   ]
  },
  {
   "cell_type": "markdown",
   "metadata": {},
   "source": [
    "### TEST"
   ]
  },
  {
   "cell_type": "code",
   "execution_count": 41,
   "metadata": {},
   "outputs": [],
   "source": [
    "session = HTMLSession()\n",
    "url = 'https://pubsonline.informs.org/doi/abs/10.1287/mnsc.1060.0589'\n",
    "r = session.get(url)\n",
    "r = r.html.find('div.article__content',first=True)"
   ]
  },
  {
   "cell_type": "code",
   "execution_count": 42,
   "metadata": {},
   "outputs": [
    {
     "data": {
      "text/plain": [
       "'Impact of Licensing on Investment and Financing of Technology Development'"
      ]
     },
     "execution_count": 42,
     "metadata": {},
     "output_type": "execute_result"
    }
   ],
   "source": [
    "# title\n",
    "r.find('h1.citation__title',first=True).text"
   ]
  },
  {
   "cell_type": "code",
   "execution_count": 43,
   "metadata": {},
   "outputs": [
    {
     "name": "stdout",
     "output_type": "stream",
     "text": [
      "Nalin Kulatilaka\n",
      "Lihui Lin\n"
     ]
    }
   ],
   "source": [
    "# author\n",
    "temp = r.find('div.accordion-tabbed.loa-accordion a.entryAuthor')\n",
    "for _ in temp:\n",
    "    print(_.text)"
   ]
  },
  {
   "cell_type": "code",
   "execution_count": 44,
   "metadata": {},
   "outputs": [
    {
     "data": {
      "text/plain": [
       "'https://doi.org/10.1287/mnsc.1060.0589'"
      ]
     },
     "execution_count": 44,
     "metadata": {},
     "output_type": "execute_result"
    }
   ],
   "source": [
    "# link\n",
    "r.find('div.epub-section a.epub-section__doi__text',first=True).text"
   ]
  },
  {
   "cell_type": "code",
   "execution_count": 45,
   "metadata": {},
   "outputs": [
    {
     "data": {
      "text/plain": [
       "'1 Dec 2006'"
      ]
     },
     "execution_count": 45,
     "metadata": {},
     "output_type": "execute_result"
    }
   ],
   "source": [
    "# date\n",
    "r.find('div.epub-section span.epub-section__date',first=True).text"
   ]
  },
  {
   "cell_type": "code",
   "execution_count": 46,
   "metadata": {},
   "outputs": [
    {
     "data": {
      "text/plain": [
       "'Technology innovations continue to be one of the greatest drivers of economic growth. Realizing the value of such innovations, however, requires substantial follow-on investments in development and commercialization. The value of these investments is difficult to capture because of uncertain demand and potential competition. This often leads to difficulties in obtaining outside financing for these investments. In this paper, we explore how licensing contracts can both dissuade other firms from developing alternative technologies and alleviate the financing problem. We develop a model in which a firm that invests in the development efforts of an innovation can license its technology to a potential competitor. A variety of licensing possibilities is considered, including fixed fees, royalty schedules, and two-part licenses consisting of an up-front payment and a capped royalty schedule. When the firm has no financial constraint, a royalty schedule that depends on realized demand dominates a fixed fee per license. When investment funds are constrained, a royalty cap license with an up-front payment can serve as a source of financing. We also study the investment problem conditional on the licensing and financing decisions.'"
      ]
     },
     "execution_count": 46,
     "metadata": {},
     "output_type": "execute_result"
    }
   ],
   "source": [
    "# abstract\n",
    "r.find('div.abstractInFull',first=True).text"
   ]
  },
  {
   "cell_type": "markdown",
   "metadata": {},
   "source": [
    "### MAIN"
   ]
  },
  {
   "cell_type": "code",
   "execution_count": 7,
   "metadata": {},
   "outputs": [
    {
     "data": {
      "text/plain": [
       "'/Users/dyang/light-speed-engine/MS/Volume 52'"
      ]
     },
     "execution_count": 7,
     "metadata": {},
     "output_type": "execute_result"
    }
   ],
   "source": [
    "os.getcwd()"
   ]
  },
  {
   "cell_type": "code",
   "execution_count": 65,
   "metadata": {},
   "outputs": [],
   "source": [
    "sub_request = None"
   ]
  },
  {
   "cell_type": "code",
   "execution_count": 204,
   "metadata": {},
   "outputs": [],
   "source": [
    "os.chdir('light-speed-engine')"
   ]
  },
  {
   "cell_type": "code",
   "execution_count": 117,
   "metadata": {},
   "outputs": [],
   "source": [
    "MS_URL = 'https://pubsonline.informs.org/toc/mnsc/'\n",
    "RETRY = 3\n",
    "\n",
    "def get_subrequest(url):\n",
    "    session = HTMLSession()\n",
    "    result = []\n",
    "    r = session.get(url)\n",
    "    result.append(r.status_code)\n",
    "    result.append(r)\n",
    "    return result\n",
    "\n",
    "\n",
    "def ms_main(mag, vol, iss):\n",
    "    if os.getcwd()[13:] == 'light-speed-engine':\n",
    "        path=mag + '/' + 'Volume ' + vol\n",
    "        os.makedirs(path,exist_ok=True)\n",
    "        os.chdir(path)\n",
    "        \n",
    "        # get item link list\n",
    "        main_session = HTMLSession()\n",
    "        main_request = main_session.get(MS_URL + vol + '/' + iss) \n",
    "        # main_request: get links for all articles\n",
    "        items = main_request.html.find('div.issue-item')\n",
    "        url_list = []\n",
    "        for item in items:\n",
    "            url_list.append(item.find('div.issue-item>p>a',first=True).absolute_links.pop())        \n",
    "        # start write md file\n",
    "        # check vol, iss format\n",
    "        if vol.isdigit():\n",
    "            vol = '{:02d}'.format(int(vol))\n",
    "        if iss.isdigit():\n",
    "            iss = '{:02d}'.format(int(iss))\n",
    "        md_file = open('Volume {} - Issue {}.md'.format(vol, iss),'w',errors='ignore')\n",
    "        # title\n",
    "        md_file.write('# Volume {}, Issue {}\\n'.format(vol, iss))\n",
    "        # date\n",
    "        md_file.write('- {}\\n'.format(main_request.html.find('div.volume--date', first=True).text))\n",
    "        # page\n",
    "        md_file.write('- {}\\n'.format(main_request.html.find('div.volume--pages', first=True).text))\n",
    "        # editor\n",
    "        md_file.write('- {}\\n\\n'.format(main_request.html.find('div.editor-in-chief>span', first=True).text))\n",
    "        \n",
    "        # get issue\n",
    "        print('Volume {}, Issue {}: {} articles'.format(vol, iss, len(url_list)))\n",
    "        for num, url in enumerate(url_list):            \n",
    "            print('Retriving article #{:02d}'.format(num+1))\n",
    "\n",
    "            sub_request = get_subrequest(url)\n",
    "            print('Code: ',sub_request[0])\n",
    "            if sub_request[0] != 200:\n",
    "                print('Error code {}'.format(sub_request[0]))\n",
    "                break\n",
    "\n",
    "            # only keep main body\n",
    "            sub_request = sub_request[1].html.find('div.article__content',first=True)\n",
    "            \n",
    "            # title\n",
    "            md_file.write('## {}. {}\\n'.format(num+1 ,sub_request.find('h1.citation__title',first=True).text))\n",
    "            # author(s)\n",
    "            md_file.write('### Author(s):\\n')\n",
    "            for author in sub_request.find('div.accordion-tabbed.loa-accordion a.entryAuthor'):\n",
    "                md_file.write('- {}\\n'.format(author.text))    \n",
    "            # date\n",
    "            md_file.write('### Published:\\n- {}\\n'.format(sub_request.find('div.epub-section span.epub-section__date',first=True).text))\n",
    "            # Abstract\n",
    "            try:\n",
    "                md_file.write('### Abstract:\\n{}\\n'.format(sub_request.find('div.abstractInFull>p',first=True).text))\n",
    "            except:\n",
    "                md_file.write('### Abstract:\\n{}\\n'.format('None'))        \n",
    "            # Link\n",
    "            md_file.write('### Link:\\n- {}\\n\\n'.format(url))\n",
    "        md_file.close()\n",
    "    else:\n",
    "        print('ERORR: Not in the right folder')\n",
    "    os.chdir('../..')"
   ]
  },
  {
   "cell_type": "code",
   "execution_count": 128,
   "metadata": {},
   "outputs": [
    {
     "name": "stdout",
     "output_type": "stream",
     "text": [
      "Volume 44, Issue 12-part-1: 9 articles\n",
      "Retriving article #01\n",
      "Code:  200\n",
      "Retriving article #02\n",
      "Code:  200\n",
      "Retriving article #03\n",
      "Code:  200\n",
      "Retriving article #04\n",
      "Code:  200\n",
      "Retriving article #05\n",
      "Code:  200\n",
      "Retriving article #06\n",
      "Code:  200\n",
      "Retriving article #07\n",
      "Code:  200\n",
      "Retriving article #08\n",
      "Code:  200\n",
      "Retriving article #09\n",
      "Code:  200\n"
     ]
    }
   ],
   "source": [
    "ms_main('MS',str(44),'12-part-1')"
   ]
  },
  {
   "cell_type": "code",
   "execution_count": null,
   "metadata": {},
   "outputs": [],
   "source": []
  }
 ],
 "metadata": {
  "kernelspec": {
   "display_name": "Python 3",
   "language": "python",
   "name": "python3"
  },
  "language_info": {
   "codemirror_mode": {
    "name": "ipython",
    "version": 3
   },
   "file_extension": ".py",
   "mimetype": "text/x-python",
   "name": "python",
   "nbconvert_exporter": "python",
   "pygments_lexer": "ipython3",
   "version": "3.6.7"
  }
 },
 "nbformat": 4,
 "nbformat_minor": 2
}
