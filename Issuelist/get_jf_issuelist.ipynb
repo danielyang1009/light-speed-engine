{
 "cells": [
  {
   "cell_type": "code",
   "execution_count": 1,
   "metadata": {},
   "outputs": [],
   "source": [
    "import json\n",
    "from requests_html import HTMLSession\n",
    "import os"
   ]
  },
  {
   "cell_type": "code",
   "execution_count": 4,
   "metadata": {},
   "outputs": [],
   "source": [
    "base_url = 'https://onlinelibrary.wiley.com/loi/15406261'\n",
    "s = HTMLSession()"
   ]
  },
  {
   "cell_type": "markdown",
   "metadata": {},
   "source": [
    "vol 1 - 1946 (1 + **1945**)\n",
    "vol 2 - 1947\n",
    "...\n",
    "vol 74 - 2019"
   ]
  },
  {
   "cell_type": "code",
   "execution_count": 27,
   "metadata": {},
   "outputs": [
    {
     "name": "stdout",
     "output_type": "stream",
     "text": [
      "Vol 1 DONE\n",
      "Vol 2 DONE\n",
      "Vol 3 DONE\n",
      "Vol 4 DONE\n",
      "Vol 5 DONE\n",
      "Vol 6 DONE\n",
      "Vol 7 DONE\n",
      "Vol 8 DONE\n",
      "Vol 9 DONE\n",
      "Vol 10 DONE\n",
      "Vol 11 DONE\n",
      "Vol 12 DONE\n",
      "Vol 13 DONE\n",
      "Vol 14 DONE\n",
      "Vol 15 DONE\n",
      "Vol 16 DONE\n",
      "Vol 17 DONE\n",
      "Vol 18 DONE\n",
      "Vol 19 DONE\n",
      "Vol 20 DONE\n",
      "Vol 21 DONE\n",
      "Vol 22 DONE\n",
      "Vol 23 DONE\n",
      "Vol 24 DONE\n",
      "Vol 25 DONE\n",
      "Vol 26 DONE\n",
      "Vol 27 DONE\n",
      "Vol 28 DONE\n",
      "Vol 29 DONE\n",
      "Vol 30 DONE\n",
      "Vol 31 DONE\n",
      "Vol 32 DONE\n",
      "Vol 33 DONE\n",
      "Vol 34 DONE\n",
      "Vol 35 DONE\n",
      "Vol 36 DONE\n",
      "Vol 37 DONE\n",
      "Vol 38 DONE\n",
      "Vol 39 DONE\n",
      "Vol 40 DONE\n",
      "Vol 41 DONE\n",
      "Vol 42 DONE\n",
      "Vol 43 DONE\n",
      "Vol 44 DONE\n",
      "Vol 45 DONE\n",
      "Vol 46 DONE\n",
      "Vol 47 DONE\n",
      "Vol 48 DONE\n",
      "Vol 49 DONE\n",
      "Vol 50 DONE\n",
      "Vol 51 DONE\n",
      "Vol 52 DONE\n",
      "Vol 53 DONE\n",
      "Vol 54 DONE\n",
      "Vol 55 DONE\n",
      "Vol 56 DONE\n",
      "Vol 57 DONE\n",
      "Vol 58 DONE\n",
      "Vol 59 DONE\n",
      "Vol 60 DONE\n",
      "Vol 61 DONE\n",
      "Vol 62 DONE\n",
      "Vol 63 DONE\n",
      "Vol 64 DONE\n",
      "Vol 65 DONE\n",
      "Vol 66 DONE\n",
      "Vol 67 DONE\n",
      "Vol 68 DONE\n",
      "Vol 69 DONE\n",
      "Vol 70 DONE\n",
      "Vol 71 DONE\n",
      "Vol 72 DONE\n",
      "Vol 73 DONE\n",
      "Vol 74 DONE\n"
     ]
    }
   ],
   "source": [
    "issuelist = {}\n",
    "for i in range(1946,2020):\n",
    "    vol = str(i - 1945)\n",
    "    print('# '+vol+' ', end='')\n",
    "    r = s.get('{}/year/{}'.format(base_url,i))\n",
    "    issuelist[vol] = [i.text.split('Issue ')[-1] for i in  r.html.find('div.loi__issue a')]\n",
    "    print('DONE', end='')"
   ]
  },
  {
   "cell_type": "code",
   "execution_count": 34,
   "metadata": {},
   "outputs": [],
   "source": [
    "with open('jf_issuelist.json','w') as f:\n",
    "    f.write(json.dumps(issuelist))"
   ]
  }
 ],
 "metadata": {
  "kernelspec": {
   "display_name": "Python 3",
   "language": "python",
   "name": "python3"
  },
  "language_info": {
   "codemirror_mode": {
    "name": "ipython",
    "version": 3
   },
   "file_extension": ".py",
   "mimetype": "text/x-python",
   "name": "python",
   "nbconvert_exporter": "python",
   "pygments_lexer": "ipython3",
   "version": "3.7.2"
  }
 },
 "nbformat": 4,
 "nbformat_minor": 2
}
