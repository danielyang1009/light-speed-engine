{
 "cells": [
  {
   "cell_type": "code",
   "execution_count": null,
   "metadata": {},
   "outputs": [],
   "source": [
    "from requests_html import HTMLSession\n",
    "import json"
   ]
  },
  {
   "cell_type": "code",
   "execution_count": null,
   "metadata": {},
   "outputs": [],
   "source": [
    "jdict = {}\n",
    "\n",
    "url = 'https://academic.oup.com/rfs/issue/32/1?browseBy=volume'\n",
    "s = HTMLSession()\n",
    "r = s.get(url)"
   ]
  },
  {
   "cell_type": "code",
   "execution_count": null,
   "metadata": {},
   "outputs": [],
   "source": [
    "# 2019 vol 32 \n",
    "# ...1987...\n",
    "# 1988 vol 1"
   ]
  },
  {
   "cell_type": "code",
   "execution_count": null,
   "metadata": {
    "scrolled": true
   },
   "outputs": [],
   "source": [
    "url = 'https://academic.oup.com/rfs/issue/{}/1?browseBy=volume'\n",
    "s = HTMLSession()\n",
    "\n",
    "\n",
    "issuelist = {}\n",
    "print('Requesting...')\n",
    "for vol in [str(i) for i in range(1,33)]:\n",
    "    print('# {} '.format(vol), end='')\n",
    "    try:\n",
    "        r = s.get(url.format(vol))\n",
    "    except:\n",
    "        for i in range(5):\n",
    "            print('RETRY #{} '.format(i+1))\n",
    "            r = s.get(url.format(vol))\n",
    "            if r.status_code = 200:\n",
    "                break\n",
    "    \n",
    "    issuelist[vol] = {}\n",
    "    content = r.html.find('div.single-dropdown-wrap.dropdown-issue', first=True)\n",
    "    for i in content.find('option.issue-browse-option'):\n",
    "        iss = i.text.split(',')[0].strip().split('Issue ')[1]\n",
    "        date = i.text.split(',')[1].strip()\n",
    "        page = i.text.split(',')[2].strip()\n",
    "        try:\n",
    "            issuelist[vol][iss]\n",
    "        except KeyError:\n",
    "            issuelist[vol][iss] = {}\n",
    "\n",
    "        issuelist[vol][iss]['date'] = date\n",
    "        issuelist[vol][iss]['page'] = page\n",
    "        issuelist[vol][iss]['link'] = 'https://academic.oup.com/rfs/issue/{}/{}?browseBy=volume'.format(vol,iss)\n",
    "    print('DONE!')\n",
    "    \n",
    "with open('rfs_issuelist.json','w') as f:\n",
    "    f.write(json.dumps(issuelist))"
   ]
  },
  {
   "cell_type": "code",
   "execution_count": null,
   "metadata": {},
   "outputs": [],
   "source": [
    "with open('rfs_issuelist.json','w') as f:\n",
    "    f.write(json.dumps(issuelist,indent=4))"
   ]
  }
 ],
 "metadata": {
  "kernelspec": {
   "display_name": "Python 3",
   "language": "python",
   "name": "python3"
  },
  "language_info": {
   "codemirror_mode": {
    "name": "ipython",
    "version": 3
   },
   "file_extension": ".py",
   "mimetype": "text/x-python",
   "name": "python",
   "nbconvert_exporter": "python",
   "pygments_lexer": "ipython3",
   "version": "3.7.2"
  }
 },
 "nbformat": 4,
 "nbformat_minor": 2
}
