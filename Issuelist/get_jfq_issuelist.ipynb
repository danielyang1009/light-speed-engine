{
 "cells": [
  {
   "cell_type": "code",
   "execution_count": null,
   "metadata": {},
   "outputs": [],
   "source": [
    "from requests_html import HTML\n",
    "import json\n",
    "import os"
   ]
  },
  {
   "cell_type": "code",
   "execution_count": null,
   "metadata": {},
   "outputs": [],
   "source": [
    "with open('jfq_source.htm', 'r') as file:\n",
    "    source = file.read()    \n",
    "source = HTML(html=source)\n",
    "content = source.find('div.reading-width.journal-all-issues', first=True)"
   ]
  },
  {
   "cell_type": "code",
   "execution_count": null,
   "metadata": {},
   "outputs": [],
   "source": [
    "url_list = [i.find('a',first=True).links.pop() for i in content.find('li.accordion-navigation>ul>li')]"
   ]
  },
  {
   "cell_type": "code",
   "execution_count": null,
   "metadata": {},
   "outputs": [],
   "source": [
    "# test sturcture\n",
    "temp = {\n",
    "    \"32\": {\n",
    "        \"1\": {\n",
    "            \"page\":\"\",\n",
    "            \"link\":\"http://1\"\n",
    "            }\n",
    "}}\n",
    "temp['32']['1']['link']"
   ]
  },
  {
   "cell_type": "code",
   "execution_count": null,
   "metadata": {
    "scrolled": false
   },
   "outputs": [],
   "source": [
    "jfile = {}\n",
    "for i in content.find('li.accordion-navigation>ul>li'):\n",
    "    # vol\n",
    "    vol = str(int(i.find('a span.date',first=True).text.split(' ')[1])-1965)\n",
    "    iss = i.find('a span.issue',first=True).text.split(' ')[1]\n",
    "    page = i.find('a div')[2].text\n",
    "    link = 'https://www.cambridge.org' + i.find('a',first=True).links.pop()\n",
    "    \n",
    "    try:\n",
    "        jfile[vol]\n",
    "    except KeyError:\n",
    "        jfile[vol] = {}\n",
    "        try:\n",
    "            jfile[vol][iss]\n",
    "        except KeyError:\n",
    "            jfile[vol][iss] = {}\n",
    "    jfile[vol][iss] = {\"page\":page,\"link\":link}"
   ]
  },
  {
   "cell_type": "code",
   "execution_count": null,
   "metadata": {},
   "outputs": [],
   "source": [
    "with open('jfq_issuelist.json', 'w') as f:\n",
    "    f.write(json.dumps(jfile,indent=4))"
   ]
  }
 ],
 "metadata": {
  "kernelspec": {
   "display_name": "Python 3",
   "language": "python",
   "name": "python3"
  },
  "language_info": {
   "codemirror_mode": {
    "name": "ipython",
    "version": 3
   },
   "file_extension": ".py",
   "mimetype": "text/x-python",
   "name": "python",
   "nbconvert_exporter": "python",
   "pygments_lexer": "ipython3",
   "version": "3.7.2"
  }
 },
 "nbformat": 4,
 "nbformat_minor": 2
}
