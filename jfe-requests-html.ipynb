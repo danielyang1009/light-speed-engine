{
 "cells": [
  {
   "cell_type": "code",
   "execution_count": null,
   "metadata": {},
   "outputs": [],
   "source": [
    "from requests_html import HTMLSession\n",
    "import calendar\n",
    "import json\n",
    "import os\n",
    "\n",
    "# read issue list\n",
    "with open('Issuelist/jfe_issuelist.json','r') as f:\n",
    "    jf = f.read()\n",
    "JFE_ISSUELIST = json.loads(jf)"
   ]
  },
  {
   "cell_type": "markdown",
   "metadata": {},
   "source": [
    "### TEST"
   ]
  },
  {
   "cell_type": "code",
   "execution_count": null,
   "metadata": {},
   "outputs": [],
   "source": [
    "test_vol, test_iss = str(89), str(1)\n",
    "base_url = 'https://www.sciencedirect.com/journal/journal-of-financial-economics/vol/{}/issue/{}'.format(test_vol, test_iss)\n",
    "s = HTMLSession()\n",
    "r = s.get(base_url)"
   ]
  },
  {
   "cell_type": "code",
   "execution_count": null,
   "metadata": {},
   "outputs": [],
   "source": [
    "test_url_list = [i.absolute_links.pop() for i in r.html.find('a.article-content-title')]\n",
    "test_url_list"
   ]
  },
  {
   "cell_type": "code",
   "execution_count": null,
   "metadata": {},
   "outputs": [],
   "source": [
    "test = s.get(test_url_list[-1])"
   ]
  },
  {
   "cell_type": "code",
   "execution_count": null,
   "metadata": {},
   "outputs": [],
   "source": [
    "# title\n",
    "test.html.find('span.title-text',first=True).text"
   ]
  },
  {
   "cell_type": "code",
   "execution_count": null,
   "metadata": {},
   "outputs": [],
   "source": [
    "# authors\n",
    "authors = test.html.find('a.author')"
   ]
  },
  {
   "cell_type": "code",
   "execution_count": null,
   "metadata": {},
   "outputs": [],
   "source": [
    "if authors[2].find('span.text.given-name', first=True) is None:\n",
    "    print('111')"
   ]
  },
  {
   "cell_type": "code",
   "execution_count": null,
   "metadata": {},
   "outputs": [],
   "source": [
    "authors[0].find('span.text.surname', first=True).text"
   ]
  },
  {
   "cell_type": "code",
   "execution_count": null,
   "metadata": {},
   "outputs": [],
   "source": [
    "authors[0].find('span.text.given-name', first=True).text + ' ' + authors[0].find('span.text.surname', first=True).text"
   ]
  },
  {
   "cell_type": "code",
   "execution_count": null,
   "metadata": {},
   "outputs": [],
   "source": [
    "# string\n",
    "string = test.html.find('div.text-xs', first=True).text\n",
    "print(string)"
   ]
  },
  {
   "cell_type": "code",
   "execution_count": null,
   "metadata": {},
   "outputs": [],
   "source": [
    "# volume\n",
    "[i.strip() for i in string.split(',')][0].strip('Volume| ')"
   ]
  },
  {
   "cell_type": "code",
   "execution_count": null,
   "metadata": {},
   "outputs": [],
   "source": [
    "# issue\n",
    "[i.strip() for i in string.split(',')][1].strip('Issue| ')"
   ]
  },
  {
   "cell_type": "code",
   "execution_count": null,
   "metadata": {},
   "outputs": [],
   "source": [
    "# date\n",
    "# [i.strip() for i in string.split(',')][2]"
   ]
  },
  {
   "cell_type": "code",
   "execution_count": null,
   "metadata": {},
   "outputs": [],
   "source": [
    "# abstract\n",
    "test.html.find('div.Abstracts p',first='True').text"
   ]
  },
  {
   "cell_type": "code",
   "execution_count": null,
   "metadata": {},
   "outputs": [],
   "source": [
    "# link\n",
    "test.html.find('a.doi',first=True).absolute_links.pop()"
   ]
  },
  {
   "cell_type": "code",
   "execution_count": null,
   "metadata": {},
   "outputs": [],
   "source": [
    "'https://doi.org/10.1016/j.jfineco.2018.11.002'.split('.')[-3]"
   ]
  },
  {
   "cell_type": "code",
   "execution_count": null,
   "metadata": {},
   "outputs": [],
   "source": [
    "'https://doi.org/10.1016/j.jfineco.2018.11.002'.split('.')[-2]"
   ]
  },
  {
   "cell_type": "markdown",
   "metadata": {},
   "source": [
    "### main"
   ]
  },
  {
   "cell_type": "code",
   "execution_count": null,
   "metadata": {},
   "outputs": [],
   "source": [
    "JFE_URL = 'https://www.sciencedirect.com/journal/journal-of-financial-economics/'\n",
    "MAX_RETRY = 5\n",
    "\n",
    "\n",
    "def get_jfe(vol,iss):\n",
    "    s = HTMLSession()\n",
    "    \n",
    "    try:\n",
    "        r = s.get(JFE_URL+'vol/'+vol+'/issue/'+iss)\n",
    "    except:\n",
    "        for c , _ in ernumerate(range(MAX_RETRY+1)):\n",
    "            print('Retry#{} '.format(c+1))\n",
    "            r = s.get(JFE_URL+'vol/'+vol+'/issue/'+iss)\n",
    "            if r.status_code == 200:\n",
    "                break\n",
    "    \n",
    "#     print('[{}] '.format(r.status_code), end='')\n",
    "    print('Volume \\033[32m{}\\033[m, Issue \\033[32m{}\\033[m: Total {} '.format(vol,iss,len(r.html.find('a.article-content-title'))))\n",
    "    \n",
    "    # get article url list\n",
    "    url_list = r.html.find('a.article-content-title')\n",
    "    url_list = [i.absolute_links.pop() for i in url_list]\n",
    "    \n",
    "    # create list\n",
    "    article = {}\n",
    "    # isse info write\n",
    "    article['journal'] = 'JFE'\n",
    "    ###!!!!!\n",
    "    vol_iss = r.html.find('.js-vol-issue', first=True).text.split(',')\n",
    "    article['volume'] = vol_iss[0].strip('Volume| ')\n",
    "    article['issue'] = vol_iss[1].strip('Issue| ')\n",
    "    date_page = r.html.find('h3.js-issue-status', first=True).text.split('(')\n",
    "    print(date_page[1].strip(')| '))\n",
    "    article['date'] = '{}'.format(date_page[1].strip(')| '))\n",
    "    article['page'] = '{}'.format(date_page[0].strip(' '))\n",
    "        \n",
    "    # article info write\n",
    "    article['article'] = []\n",
    "    for i, url in enumerate(url_list):\n",
    "        print('#{} '.format(i+1), end='')\n",
    "        # request\n",
    "        try:\n",
    "            r = s.get(url)\n",
    "        except:\n",
    "            for c , _ in ernumerate(range(MAX_RETRY+1)):\n",
    "                print('Retry#{} '.format(c+1))\n",
    "                r = s.get(url)\n",
    "                if r.status_code == 200:\n",
    "                    break\n",
    "\n",
    "        # append new dict\n",
    "        article['article'].append(dict({\"no\":str(i+1)}))\n",
    "        article['article'][i]['title'] = r.html.find('span.title-text',first=True).text\n",
    "        \n",
    "        # get date trough link\n",
    "        link = r.html.find('a.doi',first=True).absolute_links.pop()\n",
    "        month = link.split('.')[-2]\n",
    "        year = link.split('.')[-3]\n",
    "        if year.isdigit() & year.isdigit():\n",
    "            article['article'][i]['date'] = '{} {}'.format(calendar.month_abbr[int(link.split('.')[-2])], link.split('.')[-3])\n",
    "        else:\n",
    "            try:\n",
    "                article['article'][i]['date'] = '{} {}'.format(date_page[1].strip(')| ').split(' ')[0][:3], date_page[1].strip(')| ').split(' ')[1])\n",
    "            except:\n",
    "                article['article'][i]['date'] = date_page[1].strip(')| ')\n",
    "                \n",
    "    \n",
    "        # authors\n",
    "        authors = r.html.find('a.author')\n",
    "        a_list = []\n",
    "        for author in authors:\n",
    "            gname = author.find('span.text.given-name', first=True)\n",
    "            gname = '' if gname is None else gname.text\n",
    "            sname = author.find('span.text.surname', first=True)\n",
    "            sname = '' if sname is None else sname.text\n",
    "            a_list.append('{} {}'.format(gname, sname))\n",
    "        article['article'][i]['author'] = [ name.strip() for name in a_list]\n",
    "\n",
    "    \n",
    "        # abstract\n",
    "        try:\n",
    "            article['article'][i]['abstract'] = r.html.find('div.Abstracts p',first='True').text\n",
    "        except: \n",
    "            article['article'][i]['abstract'] = ''\n",
    "        author_list = r.html.find('div.text-xs', first=True).text\n",
    "        article['article'][i]['link'] = link\n",
    "        \n",
    "    # write dot md file\n",
    "    path_name = 'JSON/JFE/Volume {}/Volume {} - Issue {}.json'.format(vol,vol,iss) \n",
    "    os.makedirs(os.path.dirname(path_name), exist_ok=True)\n",
    "    with open(path_name, 'w') as f:\n",
    "        # get article items\n",
    "        f.write(json.dumps(article, indent=4))\n",
    "    print('DONE!')\n",
    "            \n",
    "def jfe_main(vol,iss):\n",
    "    if os.getcwd()[13:] != 'light-speed-engine':\n",
    "        print('Not in the right folder')\n",
    "    else:\n",
    "        # write json\n",
    "        get_jfe(vol,iss)"
   ]
  },
  {
   "cell_type": "code",
   "execution_count": null,
   "metadata": {},
   "outputs": [],
   "source": [
    "jfe_main(str(37),str(3))"
   ]
  },
  {
   "cell_type": "code",
   "execution_count": null,
   "metadata": {
    "scrolled": false
   },
   "outputs": [],
   "source": [
    "%%time\n",
    "for i in range(37,51):\n",
    "    vol = i\n",
    "    for item in JFE_ISSUELIST[str(vol)]:\n",
    "        jfe_main(str(vol),item)"
   ]
  }
 ],
 "metadata": {
  "kernelspec": {
   "display_name": "Python 3",
   "language": "python",
   "name": "python3"
  },
  "language_info": {
   "codemirror_mode": {
    "name": "ipython",
    "version": 3
   },
   "file_extension": ".py",
   "mimetype": "text/x-python",
   "name": "python",
   "nbconvert_exporter": "python",
   "pygments_lexer": "ipython3",
   "version": "3.7.2"
  }
 },
 "nbformat": 4,
 "nbformat_minor": 2
}
